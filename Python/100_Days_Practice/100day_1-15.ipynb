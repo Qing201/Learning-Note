{
 "cells": [
  {
   "cell_type": "code",
   "execution_count": 3,
   "metadata": {},
   "outputs": [],
   "source": [
    "import numpy as np\n",
    "import sympy as sp\n",
    "import networkx as nx \n"
   ]
  },
  {
   "cell_type": "code",
   "execution_count": 85,
   "metadata": {},
   "outputs": [
    {
     "name": "stdout",
     "output_type": "stream",
     "text": [
      "1 1 2 3 5 8 13 21 34 55 89 144 233 377 610 987 1597 2584 4181 6765 "
     ]
    }
   ],
   "source": [
    "# 5-1\n",
    "a = 1\n",
    "b = 1\n",
    "for i in range(20):\n",
    "     print(a, end=' ')\n",
    "     c = a + b \n",
    "     a = b \n",
    "     b = c  \n",
    "\n",
    "# Better Code\n",
    "a = 0\n",
    "b = 1\n",
    "for _ in range(20):\n",
    "    a, b = b, a + b\n",
    "    print(a, end=' ')\n"
   ]
  },
  {
   "cell_type": "code",
   "execution_count": 92,
   "metadata": {},
   "outputs": [
    {
     "name": "stdout",
     "output_type": "stream",
     "text": [
      "6 28 496 8128 "
     ]
    }
   ],
   "source": [
    "# 5-2\n",
    "for i in range(1,10000):\n",
    "    sum = 0\n",
    "    for j in range(1,i):\n",
    "        if i % j == 0:\n",
    "            sum += j\n",
    "    if sum == i:\n",
    "        print(i, end=' ')\n"
   ]
  },
  {
   "cell_type": "code",
   "execution_count": 89,
   "metadata": {},
   "outputs": [
    {
     "name": "stdout",
     "output_type": "stream",
     "text": [
      "2 3 5 7 11 13 17 19 23 29 31 37 41 43 47 53 59 61 67 71 73 79 83 89 97 "
     ]
    }
   ],
   "source": [
    "# 5-3 \n",
    "for i in range(2,101):\n",
    "    flag = 1\n",
    "    for j in range(2,i):\n",
    "        if i % j == 0:\n",
    "            flag = 0\n",
    "    if flag == 1:\n",
    "        print(i,end=' ')\n",
    "        \n",
    "     "
   ]
  },
  {
   "cell_type": "code",
   "execution_count": 30,
   "metadata": {},
   "outputs": [
    {
     "name": "stdout",
     "output_type": "stream",
     "text": [
      "{'骆昊': 95, '白元芳': 65, '狄仁杰': 82, '诸葛王朗': 71, '冷面': 67, '方启鹤': 85}\n",
      "('方启鹤', 85)\n",
      "{'骆昊': 95, '白元芳': 65, '狄仁杰': 82, '诸葛王朗': 71, '冷面': 67}\n"
     ]
    }
   ],
   "source": [
    "scores = {'骆昊': 95, '白元芳': 78, '狄仁杰': 82}\n",
    "scores['白元芳'] = 65\n",
    "scores['诸葛王朗'] = 71\n",
    "scores.update(冷面=67, 方启鹤=85)\n",
    "print(scores)\n",
    "print(scores.popitem())\n",
    "print(scores)"
   ]
  },
  {
   "cell_type": "code",
   "execution_count": 4,
   "metadata": {},
   "outputs": [],
   "source": [
    "# 7-2\n",
    "def main(persons=30):\n",
    "    a = np.arange(1,persons+1)\n",
    "    b = [True] * persons\n",
    "    c = dict(zip(a,b))\n",
    "    out = 0\n",
    "    person = 0\n",
    "    number = 0\n",
    "    while out < 1000:\n",
    "        person += 1\n",
    "        if c[person]:\n",
    "            number += 1\n",
    "        if number == 9:\n",
    "            c[person] = False\n",
    "            out += 1\n",
    "            number = 0\n",
    "        person %= persons\n",
    "    return c\n",
    "\n",
    "main(99999999)\n",
    "\n",
    "pass\n",
    "    "
   ]
  },
  {
   "cell_type": "code",
   "execution_count": 73,
   "metadata": {},
   "outputs": [
    {
     "name": "stdout",
     "output_type": "stream",
     "text": [
      "93\n",
      "<class 'int'>\n",
      "<__main__.Grades object at 0x116351580>\n",
      "{'li': 12, 'dali': 392}\n",
      "{'li': 13, 'dali': 393}\n"
     ]
    }
   ],
   "source": [
    "# 8\n",
    "class Grade(object):\n",
    "\n",
    "    def __init__(self, student, grade):\n",
    "        self._student = student\n",
    "        self._grade = int(grade)\n",
    "\n",
    "    @property\n",
    "    def student(self):\n",
    "        return self._student\n",
    "\n",
    "    @property\n",
    "    def grade(self):\n",
    "        return self._grade\n",
    "    \n",
    "    @grade.setter\n",
    "    def grade(self, grade):\n",
    "        self._grade = grade\n",
    "    \n",
    "    def __str__(self):\n",
    "        return '(%s, %s)' % (str(self._student), str(self._grade))\n",
    "\n",
    "    def grade_add(self, n):\n",
    "        self._grade += n\n",
    "\n",
    "class Grades:\n",
    "\n",
    "    def __init__(self):\n",
    "        #super().__init__(student,grade)\n",
    "        self.grades = dict()\n",
    "\n",
    "    def add_student(self,*Grade):\n",
    "        for G in Grade:\n",
    "            self.grades[G.student] = G.grade\n",
    "    \n",
    "    @property\n",
    "    def students_grades(self):\n",
    "        return self.grades\n",
    "\n",
    "    def grades_add(self,n):\n",
    "        for G in self.grades.keys():\n",
    "            self.grades[G] += n\n",
    "\n",
    "def main():\n",
    "    a = Grade('li','92')\n",
    "    c = Grade('dali','392')\n",
    "    a.grade_add(1)\n",
    "    print(a.grade)\n",
    "    a.grade = 12\n",
    "    print(type(c.grade))\n",
    "    b = Grades()\n",
    "    b.add_student(a,c)\n",
    "    print(b)\n",
    "    print(b.students_grades)\n",
    "    b.grades_add(1)\n",
    "    print(b.students_grades)\n",
    "\n",
    "if __name__ == '__main__':\n",
    "    main()\n",
    "\n",
    "\n"
   ]
  },
  {
   "cell_type": "code",
   "execution_count": 7,
   "metadata": {},
   "outputs": [
    {
     "name": "stdout",
     "output_type": "stream",
     "text": [
      "<Response [200]>\n"
     ]
    }
   ],
   "source": [
    "resp = requests.get(\n",
    "    'https://support.oneskyapp.com/hc/en-us/article_attachments/202761627/example_1.json')\n",
    "\n",
    "print(resp)"
   ]
  },
  {
   "cell_type": "code",
   "execution_count": 6,
   "metadata": {},
   "outputs": [
    {
     "name": "stdout",
     "output_type": "stream",
     "text": [
      "127.0.0.1\n"
     ]
    }
   ],
   "source": [
    "import socket \n",
    "hostname = socket.gethostname()\n",
    "local_ip = socket.gethostbyname(hostname)\n",
    "\n",
    "print(local_ip)"
   ]
  }
 ],
 "metadata": {
  "interpreter": {
   "hash": "e805a0074a042b7e78de1f29b33fe89a40bc6b06f595a47b2b26e2de7c3b40d8"
  },
  "kernelspec": {
   "display_name": "Python 3.9.7 64-bit ('base': conda)",
   "language": "python",
   "name": "python3"
  },
  "language_info": {
   "codemirror_mode": {
    "name": "ipython",
    "version": 3
   },
   "file_extension": ".py",
   "mimetype": "text/x-python",
   "name": "python",
   "nbconvert_exporter": "python",
   "pygments_lexer": "ipython3",
   "version": "3.9.7"
  },
  "orig_nbformat": 4
 },
 "nbformat": 4,
 "nbformat_minor": 2
}
