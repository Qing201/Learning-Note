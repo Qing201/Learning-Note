{
 "cells": [
  {
   "cell_type": "code",
   "execution_count": 8,
   "metadata": {},
   "outputs": [
    {
     "name": "stdout",
     "output_type": "stream",
     "text": [
      "2 + 1 = 3\n",
      "2 - 1 = 1\n",
      "2 * 1 = 2\n",
      "2 / 1 = 2.000000\n",
      "2 // 1 = 2\n",
      "2 % 1 = 0\n",
      "2 ** 1 = 2\n"
     ]
    }
   ],
   "source": [
    "a = int(input('a = '))\n",
    "b = int(input('b = '))\n",
    "print('%d + %d = %d' % (a, b, a + b))\n",
    "print('%d - %d = %d' % (a, b, a - b))\n",
    "print('%d * %d = %d' % (a, b, a * b))\n",
    "print('%d / %d = %f' % (a, b, a / b))\n",
    "print('%d // %d = %d' % (a, b, a // b))\n",
    "print('%d %% %d = %d' % (a, b, a % b))\n",
    "print('%d ** %d = %d' % (a, b, a ** b))"
   ]
  },
  {
   "cell_type": "code",
   "execution_count": 32,
   "metadata": {},
   "outputs": [
    {
     "name": "stdout",
     "output_type": "stream",
     "text": [
      "<class 'list'>\n"
     ]
    }
   ],
   "source": [
    "A= [1,2,3]\n",
    "\n",
    "B = [7,8,9]\n",
    "\n",
    "C=[]\n",
    "\n",
    "\n",
    "for a,b in zip(A,B):\n",
    "    A = [a,b]\n",
    "    C = C + A\n",
    "\n",
    "print(type(C))\n"
   ]
  },
  {
   "cell_type": "code",
   "execution_count": 35,
   "metadata": {},
   "outputs": [
    {
     "name": "stdout",
     "output_type": "stream",
     "text": [
      "1*1=1\t\n",
      "2*1=2\t2*2=4\t\n",
      "3*1=3\t3*2=6\t3*3=9\t\n",
      "4*1=4\t4*2=8\t4*3=12\t4*4=16\t\n",
      "5*1=5\t5*2=10\t5*3=15\t5*4=20\t5*5=25\t\n",
      "6*1=6\t6*2=12\t6*3=18\t6*4=24\t6*5=30\t6*6=36\t\n",
      "7*1=7\t7*2=14\t7*3=21\t7*4=28\t7*5=35\t7*6=42\t7*7=49\t\n",
      "8*1=8\t8*2=16\t8*3=24\t8*4=32\t8*5=40\t8*6=48\t8*7=56\t8*8=64\t\n",
      "9*1=9\t9*2=18\t9*3=27\t9*4=36\t9*5=45\t9*6=54\t9*7=63\t9*8=72\t9*9=81\t\n"
     ]
    }
   ],
   "source": [
    "for i in range(1, 10):\n",
    "    for j in range(1, i + 1):\n",
    "        print('%d*%d=%d' % (i, j, i * j), end='\\t')\n",
    "    print()"
   ]
  },
  {
   "cell_type": "code",
   "execution_count": 81,
   "metadata": {},
   "outputs": [
    {
     "name": "stdout",
     "output_type": "stream",
     "text": [
      "153 370 371 407 "
     ]
    }
   ],
   "source": [
    "for num in range(100,1000):\n",
    "    num1 = num // 100\n",
    "    num2 = num // 10 % 10\n",
    "    num3 = num % 10\n",
    "    if num == num1 ** 3 + num2 ** 3 + num3 ** 3:\n",
    "        print('%d' % num , end=' ')"
   ]
  },
  {
   "cell_type": "code",
   "execution_count": 85,
   "metadata": {},
   "outputs": [
    {
     "name": "stdout",
     "output_type": "stream",
     "text": [
      "1 1 2 3 5 8 13 21 34 55 89 144 233 377 610 987 1597 2584 4181 6765 "
     ]
    }
   ],
   "source": [
    "# 5-1\n",
    "a = 1\n",
    "b = 1\n",
    "for i in range(20):\n",
    "     print(a, end=' ')\n",
    "     c = a + b \n",
    "     a = b \n",
    "     b = c  \n",
    "\n",
    "# Better Code\n",
    "a = 0\n",
    "b = 1\n",
    "for _ in range(20):\n",
    "    a, b = b, a + b\n",
    "    print(a, end=' ')\n"
   ]
  },
  {
   "cell_type": "code",
   "execution_count": 92,
   "metadata": {},
   "outputs": [
    {
     "name": "stdout",
     "output_type": "stream",
     "text": [
      "6 28 496 8128 "
     ]
    }
   ],
   "source": [
    "# 5-2\n",
    "for i in range(1,10000):\n",
    "    sum = 0\n",
    "    for j in range(1,i):\n",
    "        if i % j == 0:\n",
    "            sum += j\n",
    "    if sum == i:\n",
    "        print(i, end=' ')\n"
   ]
  },
  {
   "cell_type": "code",
   "execution_count": 89,
   "metadata": {},
   "outputs": [
    {
     "name": "stdout",
     "output_type": "stream",
     "text": [
      "2 3 5 7 11 13 17 19 23 29 31 37 41 43 47 53 59 61 67 71 73 79 83 89 97 "
     ]
    }
   ],
   "source": [
    "# 5-3 \n",
    "for i in range(2,101):\n",
    "    flag = 1\n",
    "    for j in range(2,i):\n",
    "        if i % j == 0:\n",
    "            flag = 0\n",
    "    if flag == 1:\n",
    "        print(i,end=' ')\n",
    "        \n",
    "     "
   ]
  },
  {
   "cell_type": "code",
   "execution_count": 14,
   "metadata": {},
   "outputs": [
    {
     "name": "stdout",
     "output_type": "stream",
     "text": [
      "[(1, 2)] [1, 2]\n",
      "[(1, 2), (2, 3)]\n"
     ]
    }
   ],
   "source": [
    "A = [(1,2)]\n",
    "A1 = list(((1,2)))\n",
    "print(A,A1)\n",
    "B = [(2,3)]\n",
    "print(A + B)    # [(1,2),(3,4)]\n",
    "#print(set([1,2])+set([3,4]))    "
   ]
  },
  {
   "cell_type": "code",
   "execution_count": null,
   "metadata": {},
   "outputs": [],
   "source": []
  }
 ],
 "metadata": {
  "interpreter": {
   "hash": "e805a0074a042b7e78de1f29b33fe89a40bc6b06f595a47b2b26e2de7c3b40d8"
  },
  "kernelspec": {
   "display_name": "Python 3.9.7 64-bit ('base': conda)",
   "language": "python",
   "name": "python3"
  },
  "language_info": {
   "codemirror_mode": {
    "name": "ipython",
    "version": 3
   },
   "file_extension": ".py",
   "mimetype": "text/x-python",
   "name": "python",
   "nbconvert_exporter": "python",
   "pygments_lexer": "ipython3",
   "version": "3.9.7"
  },
  "orig_nbformat": 4
 },
 "nbformat": 4,
 "nbformat_minor": 2
}
