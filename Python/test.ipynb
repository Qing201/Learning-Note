{
 "cells": [
  {
   "cell_type": "code",
   "execution_count": 12,
   "metadata": {},
   "outputs": [
    {
     "data": {
      "text/plain": [
       "[0, 1, 2]"
      ]
     },
     "execution_count": 12,
     "metadata": {},
     "output_type": "execute_result"
    }
   ],
   "source": [
    "import numpy as np\n",
    "a = [a for a in np.arange(3)]\n",
    "a\n"
   ]
  },
  {
   "cell_type": "code",
   "execution_count": 2,
   "metadata": {},
   "outputs": [],
   "source": [
    "from math import *\n",
    "import numpy as np\n",
    "from scipy.linalg import lu_factor, lu_solve\n",
    "from scipy.linalg import qr, solve_triangular"
   ]
  },
  {
   "cell_type": "code",
   "execution_count": 10,
   "metadata": {},
   "outputs": [
    {
     "ename": "SyntaxError",
     "evalue": "invalid syntax (985605389.py, line 10)",
     "output_type": "error",
     "traceback": [
      "\u001b[0;36m  Input \u001b[0;32mIn [10]\u001b[0;36m\u001b[0m\n\u001b[0;31m    np.gradient(enrollemt_diff, *varargs=1)\u001b[0m\n\u001b[0m                                        ^\u001b[0m\n\u001b[0;31mSyntaxError\u001b[0m\u001b[0;31m:\u001b[0m invalid syntax\n"
     ]
    }
   ],
   "source": [
    "enrollemt = np.array([39896, 40434, 41294, 42023, 42355, 43035, 43859, 43617, 44157, 44939])\n",
    "\n",
    "enrollemt_diff = []\n",
    "\n",
    "for i in range(len(enrollemt)-1):\n",
    "    enrollemt_diff.append(enrollemt[i+1] - enrollemt[i])\n",
    "\n",
    "print('Enrollment change each year:',enrollemt_diff)\n",
    "\n",
    "np.gradient(enrollemt_diff, varargs=1)"
   ]
  },
  {
   "cell_type": "code",
   "execution_count": null,
   "metadata": {},
   "outputs": [],
   "source": [
    "vmat = np.array([[1,1,1,1,1], [0,1,2,3,4], [0,1,4,9,16],[0,1,8,27,64],[0,1,16,81,256]])"
   ]
  }
 ],
 "metadata": {
  "interpreter": {
   "hash": "c71354812b5d579606fb44c60f2af4aa9d2d1588e31296d92dac31ffaeb20853"
  },
  "kernelspec": {
   "display_name": "Python 3.9.7 64-bit ('Master': conda)",
   "language": "python",
   "name": "python3"
  },
  "language_info": {
   "codemirror_mode": {
    "name": "ipython",
    "version": 3
   },
   "file_extension": ".py",
   "mimetype": "text/x-python",
   "name": "python",
   "nbconvert_exporter": "python",
   "pygments_lexer": "ipython3",
   "version": "3.9.12"
  },
  "orig_nbformat": 4
 },
 "nbformat": 4,
 "nbformat_minor": 2
}
