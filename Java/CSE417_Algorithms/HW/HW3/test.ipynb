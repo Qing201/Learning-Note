{
 "cells": [
  {
   "cell_type": "code",
   "execution_count": 49,
   "metadata": {},
   "outputs": [],
   "source": [
    "from collections import defaultdict\n",
    "# Python program to find biconnected components in a given\n",
    "# undirected graph\n",
    "# Complexity : O(V + E)\n",
    "\n",
    "\n",
    "from collections import defaultdict\n",
    "\n",
    "# This class represents an directed graph\n",
    "# using adjacency list representation\n",
    "class Graph:\n",
    "\n",
    "\tdef __init__(self, vertices):\n",
    "\t\t# No. of vertices\n",
    "\t\tself.V = vertices\n",
    "\t\t\n",
    "\t\t# default dictionary to store graph\n",
    "\t\tself.graph = defaultdict(list)\n",
    "\t\t\n",
    "\t\t# time is used to find discovery times\n",
    "\t\tself.Time = 0\n",
    "\t\t\n",
    "\t\t# Count is number of biconnected components\n",
    "\t\tself.count = 0\n",
    "\n",
    "\t# function to add an edge to graph\n",
    "\tdef addEdge(self, u, v):\n",
    "\t\tself.graph[u].append(v)\n",
    "\t\tself.graph[v].append(u)\n",
    "\n",
    "\t'''A recursive function that finds and prints strongly connected\n",
    "\tcomponents using DFS traversal\n",
    "\tu --> The vertex to be visited next\n",
    "\tdisc[] --> Stores discovery times of visited vertices\n",
    "\tlow[] -- >> earliest visited vertex (the vertex with minimum\n",
    "\t\t\tdiscovery time) that can be reached from subtree\n",
    "\t\t\trooted with current vertex\n",
    "\tst -- >> To store visited edges'''\n",
    "\tdef BCCUtil(self, u, parent, low, disc, st):\n",
    "\n",
    "\t\t# Count of children in current node\n",
    "\t\tchildren = 0\n",
    "\n",
    "\t\t# Initialize discovery time and low value\n",
    "\t\tdisc[u] = self.Time\n",
    "\t\tlow[u] = self.Time\n",
    "\t\tself.Time += 1\n",
    "\n",
    "\n",
    "\t\t# Recur for all the vertices adjacent to this vertex\n",
    "\t\tfor v in self.graph[u]:\n",
    "\t\t\t# If v is not visited yet, then make it a child of u\n",
    "\t\t\t# in DFS tree and recur for it\n",
    "\t\t\tif disc[v] == -1 :\n",
    "\t\t\t\tparent[v] = u\n",
    "\t\t\t\tchildren += 1\n",
    "\t\t\t\tst.append((u, v)) # store the edge in stack\n",
    "\t\t\t\tself.BCCUtil(v, parent, low, disc, st)\n",
    "\n",
    "\t\t\t\t# Check if the subtree rooted with v has a connection to\n",
    "\t\t\t\t# one of the ancestors of u\n",
    "\t\t\t\t# Case 1 -- per Strongly Connected Components Article\n",
    "\t\t\t\tlow[u] = min(low[u], low[v])\n",
    "\n",
    "\t\t\t\t# If u is an articulation point, pop\n",
    "\t\t\t\t# all edges from stack till (u, v)\n",
    "\t\t\t\tif parent[u] == -1 and children > 1 or parent[u] != -1 and low[v] >= disc[u]:\n",
    "\t\t\t\t\tself.count += 1 # increment count\n",
    "\t\t\t\t\tw = -1\n",
    "\t\t\t\t\twhile w != (u, v):\n",
    "\t\t\t\t\t\tw = st.pop()\n",
    "\t\t\t\t\t\tprint(w,end=\" \")\n",
    "\t\t\t\t\tprint()\n",
    "\t\t\t\n",
    "\t\t\telif v != parent[u] and low[u] > disc[v]:\n",
    "\t\t\t\t'''Update low value of 'u' only of 'v' is still in stack\n",
    "\t\t\t\t(i.e. it's a back edge, not cross edge).\n",
    "\t\t\t\tCase 2\n",
    "\t\t\t\t-- per Strongly Connected Components Article'''\n",
    "\n",
    "\t\t\t\tlow[u] = min(low [u], disc[v])\n",
    "\t\n",
    "\t\t\t\tst.append((u, v))\n",
    "\n",
    "\n",
    "\t# The function to do DFS traversal.\n",
    "\t# It uses recursive BCCUtil()\n",
    "\tdef BCC(self):\n",
    "\t\t\n",
    "\t\t# Initialize disc and low, and parent arrays\n",
    "\t\tdisc = [-1] * (self.V)\n",
    "\t\tlow = [-1] * (self.V)\n",
    "\t\tparent = [-1] * (self.V)\n",
    "\t\tst = []\n",
    "\n",
    "\t\t# Call the recursive helper function to\n",
    "\t\t# find articulation points\n",
    "\t\t# in DFS tree rooted with vertex 'i'\n",
    "\t\tfor i in range(self.V):\n",
    "\t\t\tif disc[i] == -1:\n",
    "\t\t\t\tself.BCCUtil(i, parent, low, disc, st)\n",
    "\n",
    "\t\t\t# If stack is not empty, pop all edges from stack\n",
    "\t\t\tif st:\n",
    "\t\t\t\tself.count = self.count + 1\n",
    "\n",
    "\t\t\t\twhile st:\n",
    "\t\t\t\t\tw = st.pop()\n",
    "\t\t\t\t\tprint(w,end=\" \")\n",
    "\t\t\t\tprint ()"
   ]
  },
  {
   "cell_type": "code",
   "execution_count": 50,
   "metadata": {},
   "outputs": [
    {
     "name": "stdout",
     "output_type": "stream",
     "text": [
      "defaultdict(<class 'list'>, {1: [0, 2, 3, 5], 0: [1, 6], 2: [1, 3, 4], 3: [1, 2, 4], 4: [2, 3], 5: [1, 6, 7, 8], 6: [0, 5], 7: [5, 8], 8: [5, 7, 9], 9: [8], 11: [10], 10: [11]})\n",
      "(4, 2) (3, 4) (3, 1) (2, 3) (1, 2) \n",
      "(8, 9) \n",
      "(8, 5) (7, 8) (5, 7) \n",
      "(6, 0) (5, 6) (1, 5) (0, 1) \n",
      "(10, 11) \n",
      "Above are  5 biconnected components in graph\n"
     ]
    }
   ],
   "source": [
    "g = Graph(12)\n",
    "\n",
    "g.addEdge(0, 1)\n",
    "\n",
    "g.addEdge(1, 2)\n",
    "\n",
    "g.addEdge(1, 3)\n",
    "\n",
    "g.addEdge(2, 3)\n",
    "\n",
    "g.addEdge(2, 4)\n",
    "\n",
    "g.addEdge(3, 4)\n",
    "\n",
    "g.addEdge(1, 5)\n",
    "\n",
    "g.addEdge(0, 6)\n",
    "\n",
    "g.addEdge(5, 6)\n",
    "\n",
    "g.addEdge(5, 7)\n",
    "\n",
    "g.addEdge(5, 8)\n",
    "\n",
    "g.addEdge(7, 8)\n",
    "\n",
    "g.addEdge(8, 9)\n",
    "\n",
    "g.addEdge(10, 11)\n",
    "\n",
    "print(g.graph)\n",
    "g.BCC();\n",
    "print (\"Above are % d biconnected components in graph\" %(g.bicomp_number));\n",
    " \n"
   ]
  },
  {
   "cell_type": "code",
   "execution_count": 51,
   "metadata": {},
   "outputs": [
    {
     "name": "stdout",
     "output_type": "stream",
     "text": [
      "defaultdict(<class 'list'>, {6: [1, 4, 0, 14], 1: [6, 14, 0, 5], 14: [1, 5, 0, 6], 4: [2, 3, 6, 7, 10], 2: [4, 10], 10: [2, 4, 15], 3: [4, 15], 15: [3, 10], 7: [4, 9], 5: [14, 0, 1], 0: [1, 5, 6, 14], 9: [7, 8], 8: [9, 12, 13], 12: [8, 11, 13], 13: [8, 11, 12], 11: [12, 13]})\n",
      "\n",
      "(3, 4) (15, 3) (10, 15) (10, 4) (2, 10) (4, 2) \n",
      "(13, 8) (11, 13) (12, 11) (8, 12) \n",
      "(9, 8) \n",
      "(7, 9) \n",
      "(4, 7) \n",
      "(6, 4) \n",
      "(5, 0) (14, 5) (14, 1) (6, 14) (6, 0) (1, 6) (0, 1) \n",
      "Above are  7 biconnected components in graph\n"
     ]
    }
   ],
   "source": [
    "test = open('old.txt','r')\n",
    "\n",
    "test_list = test.read().split()\n",
    "\n",
    "nodes_number = int(test_list.pop(0))\n",
    "# Creat graph by adding edges in graph\n",
    "\n",
    "g = Graph(nodes_number)\n",
    "\n",
    "while test_list:\n",
    "    u = int(test_list.pop(0))\n",
    "    v = int(test_list.pop(0))\n",
    "    g.addEdge(u,v)\n",
    "\n",
    "print(g.graph)\n",
    "print()\n",
    "g.BCC();\n",
    "print (\"Above are % d biconnected components in graph\" %(g.bicomp_number));"
   ]
  },
  {
   "cell_type": "code",
   "execution_count": 53,
   "metadata": {},
   "outputs": [
    {
     "name": "stdout",
     "output_type": "stream",
     "text": [
      "[-1, -1, -1]\n"
     ]
    }
   ],
   "source": [
    "a = [-1] * (3)\n",
    "print(a)"
   ]
  },
  {
   "cell_type": "code",
   "execution_count": 57,
   "metadata": {},
   "outputs": [
    {
     "data": {
      "text/plain": [
       "[(1, 2), (2, 3)]"
      ]
     },
     "execution_count": 57,
     "metadata": {},
     "output_type": "execute_result"
    }
   ],
   "source": [
    "a =[(1,2),(2,3)]\n",
    "\n",
    "b = [1,2]\n",
    "\n",
    "b+=[a]\n",
    "\n",
    "b[2]"
   ]
  },
  {
   "cell_type": "code",
   "execution_count": 69,
   "metadata": {},
   "outputs": [
    {
     "name": "stdout",
     "output_type": "stream",
     "text": [
      "[3, 4, 5, 6, 7, 8, 9]\n",
      "[11, 12, 13, 14, 15, 16, 17, 18, 19, 1, 2]\n"
     ]
    }
   ],
   "source": [
    "a= list(range(10))\n",
    "b = list(range(11,20))\n",
    "\n",
    "c =a.pop(0)\n",
    "b += [a.pop(0)]\n",
    "b += [a.pop(0)]\n",
    "\n",
    "print(a)\n",
    "print(b)\n"
   ]
  }
 ],
 "metadata": {
  "interpreter": {
   "hash": "c71354812b5d579606fb44c60f2af4aa9d2d1588e31296d92dac31ffaeb20853"
  },
  "kernelspec": {
   "display_name": "Python 3.9.7 64-bit ('Master': conda)",
   "language": "python",
   "name": "python3"
  },
  "language_info": {
   "name": "python",
   "version": "3.9.7"
  },
  "orig_nbformat": 4
 },
 "nbformat": 4,
 "nbformat_minor": 2
}
