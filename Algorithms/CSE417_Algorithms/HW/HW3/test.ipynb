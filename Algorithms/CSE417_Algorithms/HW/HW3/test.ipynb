{
 "cells": [
  {
   "cell_type": "code",
   "execution_count": 31,
   "metadata": {},
   "outputs": [
    {
     "name": "stdout",
     "output_type": "stream",
     "text": [
      "Component 1:   {{1, 3},{2, 3},{1, 2}} \n",
      "Component 2:   {{4, 5}} \n",
      "Component 3:   {{4, 6}} \n",
      "Component 4:   {{1, 4}} \n",
      "Articulations:  {1, 4}\n",
      "Summary: 6, 6, 2, 4\n",
      "\n"
     ]
    }
   ],
   "source": [
    "# DFS to find biconnected component\n",
    "\n",
    "from collections import defaultdict\n",
    "from time import time\n",
    "\n",
    "import sys\n",
    "\n",
    "\n",
    "# The class for graph\n",
    "class Graph:\n",
    "\n",
    "    def __init__(self):\n",
    "        \n",
    "        # Default the set of nodes and edges in graph\n",
    "        self.edges = set()\n",
    "        self.nodes = set() \n",
    "\n",
    "        # default dictionary to store graph edges\n",
    "        self.graph = defaultdict(list)\n",
    "\n",
    "        # default dictionary to store LOW number of each node\n",
    "        self.low_number = defaultdict(int)\n",
    "\n",
    "        # default dictionary to store DFS search sequence number of each node\n",
    "        self.dfs_number = defaultdict(int)\n",
    "\n",
    "        # set a counter for the DFS # in the DFS tree\n",
    "        self.dfs_counter = 0\n",
    "\n",
    "        # default a list to store the biconnected components\n",
    "        self.bicomp = list()\n",
    "\n",
    "        # default a set for the articulation points\n",
    "        self.articulations = set()\n",
    "\n",
    "        # default a direction tree with DFS pash\n",
    "        self.dfs_tree = defaultdict(list)\n",
    "\n",
    "    # function to add an edge to graph\n",
    "    def add_edge(self, u, v):\n",
    "\n",
    "        if u in self.graph[v]:                  # Check if the edge already have\n",
    "            print(f'edge ({u},{v}) exists')\n",
    "        else:\n",
    "            self.graph[u].append(v) \n",
    "            self.graph[v].append(u)\n",
    "            \n",
    "            # Update the edges and nodes list\n",
    "            self.edges.add((v,u))\n",
    "            self.nodes = set(self.graph.keys())\n",
    "            \n",
    "            # reset bfs abd low number\n",
    "            self.low_number = defaultdict(int)\n",
    "            self.dfs_number = defaultdict(int)\n",
    "\n",
    "\n",
    "    # Function to add multiple edges from a list\n",
    "    def add_Edge_from_list(self,edgelist):\n",
    "        for edge in edgelist:\n",
    "            self.add_edge(edge[0],edge[1])\n",
    "\n",
    "\n",
    "    # Global initialization for DFS\n",
    "    def initialization(self):\n",
    "        # Set the DFS number for all the nodes to -1\n",
    "        for i in self.nodes:\n",
    "            self.dfs_number[i] = -1\n",
    "        \n",
    "        # Set DFS discover counter to 0\n",
    "        self.dfs_counter = 0\n",
    "\n",
    "    \n",
    "    def DFS(self):\n",
    "        self.initialization()\n",
    "        store = list()\n",
    "        for node in self.nodes:\n",
    "            if self.dfs_number[node] == -1:\n",
    "                # Call the DFS travl\n",
    "                self.__dfs(node, store)\n",
    "        \n",
    "\n",
    "\n",
    "    def __dfs(self, v, store):\n",
    "        # Initialization\n",
    "        self.dfs_counter += 1\n",
    "        self.dfs_number[v] = self.dfs_counter\n",
    "        self.low_number[v] = self.dfs_counter\n",
    "\n",
    "        for x in self.graph[v]:\n",
    "            if self.dfs_number[x] == -1:       # x is undiscovered\n",
    "                store += [(v,x)]\n",
    "                self.dfs_tree[v].append(x)\n",
    "                \n",
    "                self.__dfs(x, store)\n",
    "\n",
    "                self.low_number[v] = min(self.low_number[v], self.low_number[x])\n",
    "                \n",
    "\n",
    "                if self.low_number[x] >= self.dfs_number[v]:\n",
    "\n",
    "                    # In this algorithm, every root point will become to articulation points\n",
    "                    # Use this to check if the root point is a articulation point.\n",
    "                    if not (self.dfs_number[v] == 1 and self.low_number[x] == self.dfs_number[v]):\n",
    "                        self.articulations.add(v)\n",
    "\n",
    "                    # Store the biconnnected components list       \n",
    "                    bicomp = []\n",
    "                    a=()\n",
    "                    while a != (v,x):\n",
    "                        a = store.pop()\n",
    "                        bicomp += [a]\n",
    "                    self.bicomp += [bicomp]\n",
    "\n",
    "            elif v not in self.dfs_tree[x]:            # x is not v's parent\n",
    "                # Check the edges if already been exposed\n",
    "                if self.dfs_number[v] > self.dfs_number[x]:   \n",
    "                    store += [(v,x)]                            \n",
    "                self.low_number[v] = min(self.low_number[v], self.dfs_number[x])\n",
    "\n",
    " \n",
    "def main():\n",
    "    # Try to open each file by sequence\n",
    "    for i in range(1,len(sys.argv)):\n",
    "        test_name = sys.argv[i]\n",
    "        test = None\n",
    "        try:\n",
    "            test = open(test_name,'r')\n",
    "        except IOError as ex:\n",
    "            print(ex)\n",
    "\n",
    "        # If open success, process the data.\n",
    "        if test:\n",
    "            test_list = test.read().split()\n",
    "            \n",
    "            test_list.pop(0)        # Delete the first number (which is the number of nodes)\n",
    "\n",
    "            # Creat graph by adding edges in graph\n",
    "            G = Graph()\n",
    "            while test_list:\n",
    "                u = int(test_list.pop(0))\n",
    "                v = int(test_list.pop(0))\n",
    "                G.add_edge(u,v)\n",
    "\n",
    "            # Begin to conting the processing time.\n",
    "            start_time = time()\n",
    "\n",
    "            # Main function to do the DFS\n",
    "            G.DFS()\n",
    "\n",
    "            end_time = time()\n",
    "            run_time = (end_time - start_time) * 1000\n",
    "\n",
    "            if len(G.nodes) <= 20:\n",
    "                # Print biconnected comoponents\n",
    "                for i in range(len(G.bicomp)):\n",
    "                    print('Component %d :   ' %(i+1), end = '{' )\n",
    "\n",
    "                    l = len(G.bicomp[i])\n",
    "                    for edge in G.bicomp[i]:\n",
    "                        if edge == G.bicomp[i][l-1]:\n",
    "                            print(set(edge), end='} \\n')\n",
    "                        else:\n",
    "                            print(set(edge), end=', ')\n",
    "\n",
    "                print('Articulations: ', G.articulations)\n",
    "            \n",
    "            print('Summary: %s, %d, %d, %d, %d, %f' % (test_name, len(G.nodes), len(G.edges), len(G.articulations), len(G.bicomp), run_time))\n",
    "            print()\n",
    "\n",
    "def test():\n",
    "    G=Graph()\n",
    "    edges = [(1,2),(1,3),(2,3),(1,4),(4,5),(4,6),]\n",
    "    G.add_Edge_from_list(edges)\n",
    "    G.DFS()\n",
    "    for i in range(len(G.bicomp)):\n",
    "        print('Component %d:   ' %(i+1), end = '{' )\n",
    "\n",
    "        l = len(G.bicomp[i])\n",
    "        for edge in G.bicomp[i]:\n",
    "            if edge == G.bicomp[i][l-1]:\n",
    "                print(set(edge), end='} \\n')\n",
    "            else:\n",
    "                print(set(edge), end=',')\n",
    "\n",
    "    \n",
    "    print('Articulations: ', G.articulations)\n",
    "    print('Summary: %s, %d, %d, %d' % (len(G.nodes), len(G.edges), len(G.articulations), len(G.bicomp)))\n",
    "    print()\n",
    "\n",
    "\n",
    "if __name__ == '__main__':\n",
    "    #main()\n",
    "    test()\n",
    "\n"
   ]
  },
  {
   "cell_type": "code",
   "execution_count": 32,
   "metadata": {},
   "outputs": [],
   "source": [
    "import pandas as pd\n",
    "from glob import glob"
   ]
  },
  {
   "cell_type": "code",
   "execution_count": 33,
   "metadata": {},
   "outputs": [],
   "source": [
    "def cvs():\n",
    "    # Try to open each file by sequence\n",
    "    df = pd.DataFrame(columns=['nodes_number','edges_number','run_time'])\n",
    "\n",
    "    for file in glob('tests/*.txt'):\n",
    "\n",
    "        test = None\n",
    "        try:\n",
    "            test = open(file,'r')\n",
    "        except IOError as ex:\n",
    "            print(ex)\n",
    "\n",
    "        # If open success, process the data.\n",
    "        if test:\n",
    "            test_list = test.read().split()\n",
    "            \n",
    "            test_list.pop(0)        # Delete the first number (which is the number of nodes)\n",
    "\n",
    "            # Creat graph by adding edges in graph\n",
    "            G = Graph()\n",
    "            while test_list:\n",
    "                u = int(test_list.pop(0))\n",
    "                v = int(test_list.pop(0))\n",
    "                G.add_edge(u,v)\n",
    "\n",
    "            # Begin to conting the processing time.\n",
    "            start_time = time()\n",
    "\n",
    "            # Main function to do the DFS\n",
    "            G.DFS()\n",
    "\n",
    "            end_time = time()\n",
    "            run_time = (end_time - start_time) * 1294\n",
    "\n",
    "            #print('Summary: %s, %d, %d, %d, %d, %f' % (file, len(G.nodes), len(G.edges), len(G.articulations), len(G.bicomp), run_time))\n",
    "            #print()\n",
    "\n",
    "            df = df.append({'nodes_number' : len(G.nodes), 'edges_number' : len(G.edges), 'run_time' : run_time}, ignore_index=1)\n",
    "\n",
    "    return df  \n",
    "        \n",
    "df = cvs()"
   ]
  },
  {
   "cell_type": "code",
   "execution_count": 34,
   "metadata": {},
   "outputs": [
    {
     "name": "stdout",
     "output_type": "stream",
     "text": [
      "    nodes_number  edges_number   run_time\n",
      "0           64.0         428.0   0.684900\n",
      "1          128.0        1224.0   2.370927\n",
      "2          128.0        1373.0   2.158670\n",
      "3           16.0          58.0   0.107054\n",
      "4           64.0         373.0   0.555325\n",
      "..           ...           ...        ...\n",
      "58         256.0        1508.0   2.375555\n",
      "59          16.0          38.0   0.089160\n",
      "60          16.0          62.0   0.092863\n",
      "61         256.0        1492.0   2.290405\n",
      "62         512.0       11213.0  15.914985\n",
      "\n",
      "[63 rows x 3 columns]\n"
     ]
    }
   ],
   "source": [
    "print(df)"
   ]
  },
  {
   "cell_type": "code",
   "execution_count": 35,
   "metadata": {},
   "outputs": [
    {
     "data": {
      "image/png": "[encoded data removed]",
      "text/plain": [
       "<Figure size 432x288 with 1 Axes>"
      ]
     },
     "metadata": {
      "needs_background": "light"
     },
     "output_type": "display_data"
    },
    {
     "data": {
      "image/png": "[encoded data removed]",
      "text/plain": [
       "<Figure size 432x288 with 1 Axes>"
      ]
     },
     "metadata": {
      "needs_background": "light"
     },
     "output_type": "display_data"
    }
   ],
   "source": [
    "import matplotlib as plt\n",
    "\n",
    "node_plot = df.plot.scatter(x='nodes_number', y='run_time', title='Nodes Number VS Run Time')\n",
    "\n",
    "edge_plot = df.plot.scatter(x='edges_number', y='run_time', title='Edges Number VS Run Time')"
   ]
  },
  {
   "cell_type": "code",
   "execution_count": 36,
   "metadata": {},
   "outputs": [
    {
     "data": {
      "image/png": "[encoded data removed]",
      "text/plain": [
       "<Figure size 432x288 with 1 Axes>"
      ]
     },
     "metadata": {
      "needs_background": "light"
     },
     "output_type": "display_data"
    }
   ],
   "source": [
    "import numpy as np\n",
    "import matplotlib.pyplot as plt\n",
    "y = df['edges_number']\n",
    "x = df['run_time']\n",
    "\n",
    "fig,ax = plt.subplots()\n",
    "ax.scatter(x, y, label='Data')\n",
    "\n",
    "z = np.polyfit(x, y, 1)\n",
    "p = np.poly1d(z)\n",
    "ax.plot(x,p(x),\"r--\", alpha=0.3, label='Trend')\n",
    "ax.set_xlabel('Time')\n",
    "ax.set_ylabel('Edges')\n",
    "# ax.set_title('Number of Edges VS Run Time')\n",
    "ax.legend()\n",
    "\n",
    "plt.show()"
   ]
  },
  {
   "cell_type": "code",
   "execution_count": 37,
   "metadata": {},
   "outputs": [
    {
     "data": {
      "image/png": "[encoded data removed]",
      "text/plain": [
       "<Figure size 432x288 with 1 Axes>"
      ]
     },
     "metadata": {
      "needs_background": "light"
     },
     "output_type": "display_data"
    }
   ],
   "source": [
    "import numpy as np\n",
    "import matplotlib.pyplot as plt\n",
    "y = df['nodes_number']\n",
    "x = df['run_time']\n",
    "\n",
    "fig,ax = plt.subplots()\n",
    "ax.scatter(x, y, label='Data')\n",
    "\n",
    "z = np.polyfit(x, y, 1)\n",
    "p = np.poly1d(z)\n",
    "ax.plot(x,p(x),\"r--\", alpha=0.3, label='Trend')\n",
    "ax.set_xlabel('Time')\n",
    "ax.set_ylabel('Nodes')\n",
    "# ax.set_title('Number of Nodes VS Run Time')\n",
    "ax.legend()\n",
    "\n",
    "plt.show()"
   ]
  }
 ],
 "metadata": {
  "interpreter": {
   "hash": "c71354812b5d579606fb44c60f2af4aa9d2d1588e31296d92dac31ffaeb20853"
  },
  "kernelspec": {
   "display_name": "Python 3.9.7 64-bit ('Master': conda)",
   "language": "python",
   "name": "python3"
  },
  "language_info": {
   "codemirror_mode": {
    "name": "ipython",
    "version": 3
   },
   "file_extension": ".py",
   "mimetype": "text/x-python",
   "name": "python",
   "nbconvert_exporter": "python",
   "pygments_lexer": "ipython3",
   "version": "3.9.7"
  },
  "orig_nbformat": 4
 },
 "nbformat": 4,
 "nbformat_minor": 2
}
