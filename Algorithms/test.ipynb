{
 "cells": [
  {
   "cell_type": "code",
   "execution_count": 11,
   "metadata": {},
   "outputs": [
    {
     "name": "stdout",
     "output_type": "stream",
     "text": [
      "21\n",
      "[0, 0, 1, 1, 2, 1, 2, 2, 2, 3, 2, 3, 3, 3, 4, 3, 4, 4, 4, 5, 4]\n"
     ]
    }
   ],
   "source": [
    "values = [5, 2, 3]\n",
    "n = 3\n",
    "target = 20\n",
    "\n",
    "\n",
    "aims = [0] * (target+1)\n",
    "\n",
    "for i in range(1,target+1):\n",
    "    temp = target + 1\n",
    "    for j in values:\n",
    "        if i == j:\n",
    "            aims[i] = 1\n",
    "            break    \n",
    "        if i > j and aims[i-j] != 0:\n",
    "            aims[i] = min(temp, aims[i-j]+1)\n",
    "            temp = aims[i]\n",
    "\n",
    "\n",
    "print(len(aims))\n",
    "print(aims)\n"
   ]
  }
 ],
 "metadata": {
  "interpreter": {
   "hash": "daf302ee44f1a774dac5ffd3a70ddee2099eff9a71d31c63aef06c6b735ae96f"
  },
  "kernelspec": {
   "display_name": "Python 3.9.7 ('main')",
   "language": "python",
   "name": "python3"
  },
  "language_info": {
   "codemirror_mode": {
    "name": "ipython",
    "version": 3
   },
   "file_extension": ".py",
   "mimetype": "text/x-python",
   "name": "python",
   "nbconvert_exporter": "python",
   "pygments_lexer": "ipython3",
   "version": "3.9.12"
  },
  "orig_nbformat": 4
 },
 "nbformat": 4,
 "nbformat_minor": 2
}
