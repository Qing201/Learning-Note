{
 "cells": [
  {
   "cell_type": "code",
   "execution_count": 20,
   "metadata": {},
   "outputs": [
    {
     "data": {
      "text/plain": [
       "[[0, [1], 0, 0, 0],\n",
       " [0, [1], 0, 0, 0],\n",
       " [0, [1], 0, 0, 0],\n",
       " [0, [1], 0, 0, 0],\n",
       " [0, [1], 0, 0, 0]]"
      ]
     },
     "execution_count": 20,
     "metadata": {},
     "output_type": "execute_result"
    }
   ],
   "source": [
    "n=5\n",
    "matrix = [[0]*n]*n\n",
    "matrix[1][1] =\n",
    "\n",
    "matrix\n"
   ]
  },
  {
   "cell_type": "code",
   "execution_count": 9,
   "metadata": {},
   "outputs": [
    {
     "name": "stdout",
     "output_type": "stream",
     "text": [
      "0\n",
      "2\n",
      "4\n"
     ]
    }
   ],
   "source": [
    "for i in range(0,5,2):\n",
    "    print(i)"
   ]
  },
  {
   "cell_type": "code",
   "execution_count": 13,
   "metadata": {},
   "outputs": [
    {
     "ename": "IndexError",
     "evalue": "list index out of range",
     "output_type": "error",
     "traceback": [
      "\u001b[0;31m---------------------------------------------------------------------------\u001b[0m",
      "\u001b[0;31mIndexError\u001b[0m                                Traceback (most recent call last)",
      "\u001b[1;32m/Users/qingchuanhou/Documents/GitHub/Learning-Note/Algorithms/test.ipynb Cell 3\u001b[0m in \u001b[0;36m<cell line: 6>\u001b[0;34m()\u001b[0m\n\u001b[1;32m      <a href='vscode-notebook-cell:/Users/qingchuanhou/Documents/GitHub/Learning-Note/Algorithms/test.ipynb#X13sZmlsZQ%3D%3D?line=6'>7</a>\u001b[0m a,b \u001b[39m=\u001b[39m \u001b[39m0\u001b[39m\u001b[39m+\u001b[39mj, n\u001b[39m-\u001b[39m\u001b[39m1\u001b[39m\u001b[39m-\u001b[39mj\n\u001b[1;32m      <a href='vscode-notebook-cell:/Users/qingchuanhou/Documents/GitHub/Learning-Note/Algorithms/test.ipynb#X13sZmlsZQ%3D%3D?line=7'>8</a>\u001b[0m \u001b[39mfor\u001b[39;00m i \u001b[39min\u001b[39;00m \u001b[39mrange\u001b[39m(a, b):\n\u001b[0;32m----> <a href='vscode-notebook-cell:/Users/qingchuanhou/Documents/GitHub/Learning-Note/Algorithms/test.ipynb#X13sZmlsZQ%3D%3D?line=8'>9</a>\u001b[0m     matrix[a][i] \u001b[39m=\u001b[39m num\n\u001b[1;32m     <a href='vscode-notebook-cell:/Users/qingchuanhou/Documents/GitHub/Learning-Note/Algorithms/test.ipynb#X13sZmlsZQ%3D%3D?line=9'>10</a>\u001b[0m     num \u001b[39m+\u001b[39m\u001b[39m=\u001b[39m \u001b[39m1\u001b[39m\n\u001b[1;32m     <a href='vscode-notebook-cell:/Users/qingchuanhou/Documents/GitHub/Learning-Note/Algorithms/test.ipynb#X13sZmlsZQ%3D%3D?line=10'>11</a>\u001b[0m     \u001b[39mprint\u001b[39m(matrix)\n",
      "\u001b[0;31mIndexError\u001b[0m: list index out of range"
     ]
    }
   ],
   "source": [
    "n=3\n",
    "\n",
    "matrix = []\n",
    "num = 1\n",
    "\n",
    "for j in range(0,n//2):\n",
    "    a,b = 0+j, n-1-j\n",
    "    for i in range(a, b):\n",
    "        matrix[a][i] = num\n",
    "        num += 1\n",
    "        print(matrix)\n",
    "    for i in range(a, b):\n",
    "        matrix[i][b] = num\n",
    "        num += 1\n",
    "        print(matrix)\n",
    "\n",
    "    for i in range(b,a,-1):\n",
    "        matrix[b][i] = num\n",
    "        num += 1\n",
    "        print(matrix)\n",
    "\n",
    "    for i in range(b,a,-1):\n",
    "        matrix[i][a] = num\n",
    "        num += 1\n",
    "        print(matrix)\n",
    "\n",
    "\n",
    "if n%2 != 0:\n",
    "    matrix[n//2][n//2] = num\n",
    "print(matrix)\n"
   ]
  },
  {
   "cell_type": "code",
   "execution_count": 11,
   "metadata": {},
   "outputs": [
    {
     "name": "stdout",
     "output_type": "stream",
     "text": [
      "1 0\n",
      "2 1\n",
      "3 2\n"
     ]
    }
   ],
   "source": [
    "n = 1\n",
    "for i in range(3):\n",
    "    print(n,i)\n",
    "    n += 1"
   ]
  }
 ],
 "metadata": {
  "interpreter": {
   "hash": "daf302ee44f1a774dac5ffd3a70ddee2099eff9a71d31c63aef06c6b735ae96f"
  },
  "kernelspec": {
   "display_name": "Python 3.9.7 ('main')",
   "language": "python",
   "name": "python3"
  },
  "language_info": {
   "codemirror_mode": {
    "name": "ipython",
    "version": 3
   },
   "file_extension": ".py",
   "mimetype": "text/x-python",
   "name": "python",
   "nbconvert_exporter": "python",
   "pygments_lexer": "ipython3",
   "version": "3.9.12"
  },
  "orig_nbformat": 4
 },
 "nbformat": 4,
 "nbformat_minor": 2
}
