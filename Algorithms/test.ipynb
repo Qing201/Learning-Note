{
 "cells": [
  {
   "cell_type": "code",
   "execution_count": 24,
   "metadata": {},
   "outputs": [
    {
     "data": {
      "text/plain": [
       "list"
      ]
     },
     "execution_count": 24,
     "metadata": {},
     "output_type": "execute_result"
    }
   ],
   "source": [
    "a= [[1],[0]]\n",
    "\n",
    "type(a)"
   ]
  },
  {
   "cell_type": "code",
   "execution_count": 19,
   "metadata": {},
   "outputs": [
    {
     "data": {
      "text/plain": [
       "[1]"
      ]
     },
     "execution_count": 19,
     "metadata": {},
     "output_type": "execute_result"
    }
   ],
   "source": [
    "a = [1,2,0]\n",
    "a[:1]"
   ]
  },
  {
   "cell_type": "code",
   "execution_count": 30,
   "metadata": {},
   "outputs": [
    {
     "data": {
      "text/plain": [
       "[0, 1, 0, 1, 2, 2, 3]"
      ]
     },
     "execution_count": 30,
     "metadata": {},
     "output_type": "execute_result"
    }
   ],
   "source": [
    "needle = 'aabaaab'\n",
    "\n",
    "\n",
    "needle_count = [0] * len(needle)\n",
    "left, right = 0, 1\n",
    "count = 0\n",
    "while right < len(needle):\n",
    "    if needle[right] == needle[left]:\n",
    "        needle_count[right] = left+1\n",
    "        left += 1\n",
    "        right += 1\n",
    "    elif left == 0:\n",
    "        needle_count[right] = 0\n",
    "        right += 1\n",
    "    else:\n",
    "        left = needle_count[left-1]\n",
    "\n",
    "needle_count"
   ]
  },
  {
   "cell_type": "code",
   "execution_count": 4,
   "metadata": {},
   "outputs": [
    {
     "data": {
      "text/plain": [
       "[-1, 0, 1, 0, 1, 2, 2, 3, 0]"
      ]
     },
     "execution_count": 4,
     "metadata": {},
     "output_type": "execute_result"
    }
   ],
   "source": [
    "needle = 'aabaaabbb'\n",
    "a = len(needle)\n",
    "\n",
    "next=['' for i in range(a)]\n",
    "j,k=0,-1\n",
    "next[0]=k\n",
    "while(j<a-1):\n",
    "    if k==-1 or needle[k]==needle[j]:\n",
    "        k+=1\n",
    "        j+=1\n",
    "        next[j]=k\n",
    "    else:\n",
    "        k=next[k]\n",
    "\n",
    "next\n"
   ]
  },
  {
   "cell_type": "code",
   "execution_count": 23,
   "metadata": {},
   "outputs": [
    {
     "name": "stdout",
     "output_type": "stream",
     "text": [
      "s= word hello\n"
     ]
    }
   ],
   "source": [
    "s = \" hello word \"\n",
    "def removeSpace(s):\n",
    "    left, right = 0, 0\n",
    "    n = len(s) - 1\n",
    "    while s[right] == ' ':\n",
    "        right += 1\n",
    "    while s[n] == ' ':\n",
    "        n -= 1\n",
    "\n",
    "    while right <= n:\n",
    "        if s[right] == ' ' and s[right-1] == ' ':\n",
    "            right +=1\n",
    "        else:\n",
    "            s[left] = s[right]\n",
    "            right += 1\n",
    "            left += 1\n",
    "    return s[:left]\n",
    "        \n",
    "\n",
    "\n",
    "def reverseString(s):\n",
    "    n = len(s)\n",
    "    for i in range(n//2):\n",
    "        s[i], s[n-1-i] = s[n-1-i], s[i]\n",
    "\n",
    "def reverseWord(s):\n",
    "    left, right = 0, 0\n",
    "    n = len(s) - 1\n",
    "\n",
    "    while right <= n:\n",
    "        if right == n or s[right+1] == ' ':\n",
    "            for i in range((right - left + 1)//2):\n",
    "                s[right-i], s[left+i] = s[left+i], s[right-i]\n",
    "            right += 2\n",
    "            left = right\n",
    "        else:\n",
    "            right += 1\n",
    "\n",
    "s = list(s)\n",
    "s = removeSpace(s)\n",
    "reverseString(s)\n",
    "reverseWord(s)\n",
    "\n",
    "\n",
    "print(\"s=\", ''.join(s))"
   ]
  },
  {
   "cell_type": "code",
   "execution_count": 12,
   "metadata": {},
   "outputs": [
    {
     "data": {
      "text/plain": [
       "[2]"
      ]
     },
     "execution_count": 12,
     "metadata": {},
     "output_type": "execute_result"
    }
   ],
   "source": [
    "a=[ 1, 1]\n",
    "a.append(a.pop() + a.pop())\n",
    "a"
   ]
  },
  {
   "cell_type": "code",
   "execution_count": 32,
   "metadata": {},
   "outputs": [
    {
     "data": {
      "text/plain": [
       "(3, int)"
      ]
     },
     "execution_count": 32,
     "metadata": {},
     "output_type": "execute_result"
    }
   ],
   "source": [
    "a = '1'\n",
    "b = '2'\n",
    "c = '+'\n",
    "\n",
    "d = eval(f'{a} {c} {b}')\n",
    "d, type(d)\n"
   ]
  },
  {
   "cell_type": "code",
   "execution_count": 45,
   "metadata": {},
   "outputs": [
    {
     "name": "stdout",
     "output_type": "stream",
     "text": [
      "1.7800288200378418\n",
      "1.7468957901000977\n"
     ]
    }
   ],
   "source": [
    "import time\n",
    "n = 10000000\n",
    "\n",
    "now = time.time()\n",
    "a = []\n",
    "i = 0\n",
    "for _ in range(n):\n",
    "    if i < (n/2) :\n",
    "        a.append(1)\n",
    "    else:\n",
    "        a.append(2)\n",
    "    i += 1\n",
    "\n",
    "after = time.time()\n",
    "\n",
    "print(after-now)\n",
    "\n",
    "now = time.time()\n",
    "a = []\n",
    "for _ in range(n):\n",
    "    if len(a) < (n/2) :\n",
    "        a.append(1)\n",
    "    else:\n",
    "        a.append(2)\n",
    "\n",
    "after = time.time()\n",
    "\n",
    "print(after-now)"
   ]
  }
 ],
 "metadata": {
  "interpreter": {
   "hash": "daf302ee44f1a774dac5ffd3a70ddee2099eff9a71d31c63aef06c6b735ae96f"
  },
  "kernelspec": {
   "display_name": "Python 3.9.7 ('main')",
   "language": "python",
   "name": "python3"
  },
  "language_info": {
   "codemirror_mode": {
    "name": "ipython",
    "version": 3
   },
   "file_extension": ".py",
   "mimetype": "text/x-python",
   "name": "python",
   "nbconvert_exporter": "python",
   "pygments_lexer": "ipython3",
   "version": "3.9.12"
  },
  "orig_nbformat": 4
 },
 "nbformat": 4,
 "nbformat_minor": 2
}
