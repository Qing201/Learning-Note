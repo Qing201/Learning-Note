{
 "cells": [
  {
   "cell_type": "code",
   "execution_count": 17,
   "metadata": {},
   "outputs": [],
   "source": [
    "import numpy as np\n",
    "from math import *"
   ]
  },
  {
   "cell_type": "code",
   "execution_count": 57,
   "metadata": {},
   "outputs": [
    {
     "name": "stdout",
     "output_type": "stream",
     "text": [
      "L =  0.35 mu\n",
      "W =  0.0002745944497789775 mu\n",
      "Cgs1 =  2.9473137609610246e-07 pF\n",
      "gm1 =  0.03652046645861788 mA/V\n",
      "omega_t =  123911.02346263171 G rad/Sec\n",
      "F_min =  0.002983586277776073 dB\n",
      "L_s =  0.00040351534998884646 nH\n",
      "LgLs =  14920775.914865188 nH\n",
      "C_L =  1 pF\n",
      "Ld =  4.397620817809799 nH\n"
     ]
    }
   ],
   "source": [
    "L = 0.35 #mu\n",
    "Cox = 4.6\n",
    "muCox = 170\n",
    "R_s = 50 # Ohm\n",
    "omega_o = 2.4 * 2*pi #G rad/Sce\n",
    "\n",
    "W = 390 #mu\n",
    "W = 1/(3 * L * Cox * R_s * omega_o)\n",
    "\n",
    "I = 5 #mA\n",
    "gamma = 2\n",
    "alpha = 0.85\n",
    "\n",
    "C_L = 1 # pF\n",
    "\n",
    "Cgs1 = 2/3 * W * L * Cox * 1e-3 #pF\n",
    "gm1 = sqrt(2 * muCox * W/L * I * 1e-3) #mA/V\n",
    "omega_t = gm1/Cgs1 # G rad/Sec\n",
    "F_min = 10*log10(1 + 2.4 * gamma / alpha * omega_o / omega_t) #db\n",
    "\n",
    "L_s = R_s / omega_t #nH\n",
    "LgLs = 1/(omega_o**2 * Cgs1 * 1e-3) #nH\n",
    "Ld = 1/(omega_o**2 * C_L * 1e-3) # nH\n",
    "\n",
    "print('L = ', L, 'mu') \n",
    "print('W = ', W, 'mu') \n",
    "print('Cgs1 = ', Cgs1, 'pF') \n",
    "print('gm1 = ', gm1, 'mA/V')\n",
    "print('omega_t = ', omega_t, 'G rad/Sec')\n",
    "print('F_min = ', F_min, 'dB')\n",
    "print('L_s = ', L_s, 'nH')\n",
    "print('LgLs = ', LgLs, 'nH')\n",
    "print('C_L = ', C_L, 'pF')\n",
    "print('Ld = ', Ld, 'nH')\n"
   ]
  },
  {
   "cell_type": "code",
   "execution_count": 65,
   "metadata": {},
   "outputs": [
    {
     "name": "stdout",
     "output_type": "stream",
     "text": [
      "L =  0.18 mu\n",
      "W =  204.6745667334045 mu\n",
      "Cgs1 =  0.29473137609610245 pF\n",
      "gm1 =  70.73299142341885 mA/V\n",
      "omega_t =  239.99138592002194 G rad/Sec\n",
      "F_min =  1.318841333501565 dB\n",
      "L_s =  0.20834081110170635 nH\n",
      "LgLs =  14.920775914865189 nH\n",
      "Lg =  14.712435103763482 nH\n",
      "C_L =  1 pF\n",
      "Ld =  4.397620817809799 nH\n"
     ]
    }
   ],
   "source": [
    "L = 0.18 #mu\n",
    "Cox = 12\n",
    "muCox = 440\n",
    "R_s = 50 # Ohm\n",
    "omega_o = 2.4 * 2*pi #G rad/Sce\n",
    "\n",
    "W = 160 #mu\n",
    "W = 1/(3 * L * Cox * R_s * omega_o) * 1e+6\n",
    "\n",
    "I = 5 #mA\n",
    "gamma = 2\n",
    "alpha = 0.85\n",
    "\n",
    "C_L = 1 # pF\n",
    "\n",
    "Cgs1 = 2/3 * W * L * Cox * 1e-3 #pF\n",
    "gm1 = sqrt(2 * muCox * W/L * I * 1e-3) #mA/V\n",
    "omega_t = gm1/Cgs1 # G rad/Sec\n",
    "F_min = 10*log10(1 + 2.4 * gamma / alpha * omega_o / omega_t) #db\n",
    "\n",
    "L_s = R_s / omega_t #nH\n",
    "LgLs = 1/(omega_o**2 * Cgs1 * 1e-3) #nH\n",
    "Lg = LgLs - L_s\n",
    "Ld = 1/(omega_o**2 * C_L * 1e-3) # nH\n",
    "\n",
    "print('L = ', L, 'mu') \n",
    "print('W = ', W, 'mu') \n",
    "print('Cgs1 = ', Cgs1, 'pF') \n",
    "print('gm1 = ', gm1, 'mA/V')\n",
    "print('omega_t = ', omega_t, 'G rad/Sec')\n",
    "print('F_min = ', F_min, 'dB')\n",
    "print('L_s = ', L_s, 'nH')\n",
    "print('LgLs = ', LgLs, 'nH')\n",
    "print('Lg = ', Lg, 'nH') \n",
    "print('C_L = ', C_L, 'pF')\n",
    "print('Ld = ', Ld, 'nH')\n"
   ]
  },
  {
   "cell_type": "code",
   "execution_count": 50,
   "metadata": {},
   "outputs": [
    {
     "data": {
      "text/plain": [
       "0.0076576576576576575"
      ]
     },
     "execution_count": 50,
     "metadata": {},
     "output_type": "execute_result"
    }
   ],
   "source": [
    "0.34/2*3/370/0.18"
   ]
  },
  {
   "cell_type": "code",
   "execution_count": 60,
   "metadata": {},
   "outputs": [
    {
     "data": {
      "text/plain": [
       "1.6784812281716794e-05"
      ]
     },
     "execution_count": 60,
     "metadata": {},
     "output_type": "execute_result"
    }
   ],
   "source": [
    "1/(omega_o**2 * 0.262)*1e-3"
   ]
  },
  {
   "cell_type": "code",
   "execution_count": null,
   "metadata": {},
   "outputs": [],
   "source": []
  }
 ],
 "metadata": {
  "kernelspec": {
   "display_name": "Python 3.9.12 ('main')",
   "language": "python",
   "name": "python3"
  },
  "language_info": {
   "codemirror_mode": {
    "name": "ipython",
    "version": 3
   },
   "file_extension": ".py",
   "mimetype": "text/x-python",
   "name": "python",
   "nbconvert_exporter": "python",
   "pygments_lexer": "ipython3",
   "version": "3.9.12"
  },
  "orig_nbformat": 4,
  "vscode": {
   "interpreter": {
    "hash": "daf302ee44f1a774dac5ffd3a70ddee2099eff9a71d31c63aef06c6b735ae96f"
   }
  }
 },
 "nbformat": 4,
 "nbformat_minor": 2
}
