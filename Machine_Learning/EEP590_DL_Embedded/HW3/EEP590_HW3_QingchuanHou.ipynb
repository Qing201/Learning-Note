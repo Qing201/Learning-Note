{
 "cells": [
  {
   "cell_type": "markdown",
   "metadata": {},
   "source": [
    "# EE P 590: Deep Learning for Embedded Real-time Intelligence \n",
    "\n",
    "\n",
    "# Homework 3  "
   ]
  },
  {
   "cell_type": "code",
   "execution_count": 1,
   "metadata": {},
   "outputs": [],
   "source": [
    "import torch"
   ]
  },
  {
   "cell_type": "code",
   "execution_count": 2,
   "metadata": {},
   "outputs": [],
   "source": [
    "from eep590_utils import * "
   ]
  },
  {
   "cell_type": "markdown",
   "metadata": {},
   "source": [
    "# 0. Warm-up (40 points) \n",
    "\n",
    "###  Answer the following in your own words (read and understand the concepts, do not copy answers from the internet): \n"
   ]
  },
  {
   "cell_type": "markdown",
   "metadata": {},
   "source": [
    "**(a.) Explain why the depth-wise separable convolutions can achieve reasonable results while using fewer parameters compared to traditional convolutions. Also compare the representation power of a depth-wise separable convolution to that of a standard convolution if both had the same number of parameters.**\n",
    "\n",
    "Even the depth-wise separable convolution have fewer parameters than traditional convolutions, they can get the same size of output when acting on the same matrix. The less parameter means there are less prone to overfitting. Also with fewer parameters, the depth-wise separable convolution require less operations to compute, and thus are cheaper and faster.\n",
    "\n",
    "When dealing with the same size of matrix with same size of output, the depth-wise separable convolution will have fewer parameters than traditional convolutions. If they both had the same number of parameters. The depth-wise separable convolution can make the output more width or more deeper than traditional convolution. So the representation power of a depth-wise separable convolution is better than traditional convolution."
   ]
  },
  {
   "cell_type": "markdown",
   "metadata": {},
   "source": [
    "**(b.) Comment on the quantization bit-widths (for a deep learning model) required to achieve good performance for speech/audio inputs and compare it to that for image inputs. Which type of input requires higher number of bits to achieve reasonable performance, and why?** \n",
    "\n",
    "Generally, I think the image input requires higher number of bits to achieve reasonable performance. Because the audio data represent by Spectrograms with frequency and time, which is a 2d data. But the image data have weight, height, and RGB color, which is 3d data. Compare with 3d data and 2d data, the 3d data should requires higher number of bits.\n"
   ]
  },
  {
   "cell_type": "markdown",
   "metadata": {},
   "source": [
    "**(c.) From an optimization perspective, why is it challenging to train a deep learning model with quantized weights and activations?** \n",
    "\n",
    "The mode with quantized weight and activations will lose some accuracy. The parameters in the model could be limited by the accuracy and could not reach the optimal solution during the training process"
   ]
  },
  {
   "cell_type": "markdown",
   "metadata": {},
   "source": [
    "**(d.) What is the impact of low-rank projections on the generalization ability of a deep learning model? Explain your reasoning.**\n",
    " \n",
    "Using low-rank projection can reduce the dimensionality of the data to reduce the size of the model and the computational cost. At the same time, low-rank projection can reduce some unimportant details in the data feature while reducing the data dimension, thereby reducing overfitting to a certain extent and improving the performance of the model"
   ]
  },
  {
   "cell_type": "markdown",
   "metadata": {},
   "source": [
    "**(e.) What is the motive to deploy deep learning models on embedded/IoT devices? List the problems associated with sending the data from the IoT device to the cloud through wifi and performing the inference on the cloud**\n",
    "\n",
    "1. Faster Response Time\n",
    "Deploying deep learning models on embedded devices saves time uploading data. In some tasks that require timely response, such as autonomous driving, the car needs to quickly identify pedestrians or obstacles on the road\n",
    "\n",
    "2. Prevent the Instability of Network\n",
    "The instability of the network will cause the device to not be able to upload or receive the data.\n",
    "\n",
    "3. Reduce Resource Consumption\n",
    "Deploying deep learning models on embedded devices eliminates the need for devices to communicate with the cloud all the time, thus saving resource consumption"
   ]
  },
  {
   "cell_type": "markdown",
   "metadata": {},
   "source": [
    "**(f.) In one or more sentences, and using sketches as appropriate, explain: SqueezeNet and MobileNet. What are the defining characteristic of these architectures? How do they improve upon their predecessors in terms of latency and memory consumption?**\n",
    "\n",
    "SqueezeNet:\n",
    "SqueezeNet simplifies the network complexity of CNN. SqueezeNet uses Fire Module to convert the original simple one-layer conv layer into two layers: squeeze layer + expand layer, each with a Relu activation layer. Replacing the 3x3 convolution kernel with a 1x1 convolution kernel reduces the number of input feature maps for the input 3x3 convolution. Thus reducing the number of CNN model parameters.\n",
    "\n",
    "\n",
    "MobileNet:\n",
    "The MobileNet split the convolution into two parts: Depthwise and Pointwise (Separable convolution of depthwise separable convolution), and replace pooling with convolution with stride 2. By compressing the model and using efficient network computing methods, the parameters in the network are reduced. It reducing the size and computational cost of the model."
   ]
  },
  {
   "cell_type": "markdown",
   "metadata": {},
   "source": [
    "**(g.) Compare and contrast the different pruning techniques discussed in the lecture. Which technique would produce the  most optimal results? Which technique is the most practical? Explain your reasoning.**\n",
    "\n",
    "There are two pruning method:\n",
    "1. Magnitude-based method\n",
    "2. Hessian-based method\n",
    "\n",
    "The Magnitude-based method prunes the model uniformly, compressing the size of the model to make it easier to use. However, some pruning will reduce the integrity of the data information and decrease the accuracy of the model.\n",
    "\n",
    "The Hessian-based method uses a more subtle algorithm for pruning but is more computationally expensive.\n",
    "\n",
    "Therefore, The Hessian-based method will produce the most optimal results, and the Magnitude-based method is the most practical."
   ]
  },
  {
   "cell_type": "markdown",
   "metadata": {},
   "source": [
    "**(h.) Explain how Scree plots are useful in resource allocation and determining each layer's target rank.**\n",
    "\n",
    "The Scree plots show the relationship between the eigenvalues and the number of factors. In the data, it can show the relationship between the number of feature reductions and the selected valid interval. \n",
    "\n",
    "The Screen plots can help us choose a suitable rank that can keep useful features and compress the data efficiently\n"
   ]
  },
  {
   "cell_type": "markdown",
   "metadata": {},
   "source": [
    "**(i.) Compare and contrast the different quantization techniques discussed in the lectures, and comment on the strengths and limitations of each technique.**\n",
    "\n",
    "There are two quantization techniques:\n",
    "1. Full Quantization\n",
    "2. Quantization with full-precision copy\n",
    "\n",
    "The full quantization include fixed-point format and code book. It don't need much computational cost and can be applied easily, but it will lose the model's accuracy.\n",
    "\n",
    "The Quantization with full-precision copy include BinaryConnect and Binary Neural Network. Through binarization, the complexity of the model can be greatly reduced and the computational cost of the model can be reduced. However, binarization will reduce the complexity of information of data and it will decrease the accuracy of the model. BNN improves the performance of some models through some scale algorithms, but this will increase the number of matrix operations, resulting in increased model training time."
   ]
  },
  {
   "cell_type": "markdown",
   "metadata": {},
   "source": [
    "# 1. Low-rank approximation (30 points) \n",
    "\n",
    "In this section we will use low-rank approximations of the dense layers to reduce the memory consumption of a simple  LeNet architecture during inference. To make it simpler, we have divided this into subtasks:- \n",
    "\n",
    "- **(8 points) Subtask 1: Train a standard LeNet architercture on the Fashion MNIST dataset. Use the `load_data_fashion_mnist` function provided in the `eep590_utils.py` file for downloading and loading the dataset. The model architecture is defined below for your convenience, but you are free to use any other implementations of the same architecture. Use a set of reasonable hyper-parameters to obtain an accuracy of at least 75 percentage on the training and testing sets.** "
   ]
  },
  {
   "cell_type": "code",
   "execution_count": 3,
   "metadata": {},
   "outputs": [],
   "source": [
    "class LeNet(nn.Module):\n",
    "    def __init__(self):\n",
    "        super(LeNet, self).__init__()\n",
    "        # 1 input image channel, 6 output channels, 3x3 square conv kernel\n",
    "        self.conv1 = nn.Conv2d(1, 6, 3)\n",
    "        self.conv2 = nn.Conv2d(6, 16, 3)\n",
    "        self.fc1 = nn.Linear(16 * 5 * 5, 120)  # 5x5 image dimension\n",
    "        self.fc2 = nn.Linear(120, 84)\n",
    "        self.fc3 = nn.Linear(84, 10)\n",
    "\n",
    "    def forward(self, x):\n",
    "        x = F.max_pool2d(F.relu(self.conv1(x)), (2, 2))\n",
    "        x = F.max_pool2d(F.relu(self.conv2(x)), 2)\n",
    "        x = x.view(-1, int(x.nelement() / x.shape[0]))\n",
    "        x = F.relu(self.fc1(x))\n",
    "        x = F.relu(self.fc2(x))\n",
    "        x = self.fc3(x)\n",
    "        return x"
   ]
  },
  {
   "cell_type": "code",
   "execution_count": 4,
   "metadata": {},
   "outputs": [
    {
     "name": "stdout",
     "output_type": "stream",
     "text": [
      "LeNet(\n",
      "  (conv1): Conv2d(1, 6, kernel_size=(3, 3), stride=(1, 1))\n",
      "  (conv2): Conv2d(6, 16, kernel_size=(3, 3), stride=(1, 1))\n",
      "  (fc1): Linear(in_features=400, out_features=120, bias=True)\n",
      "  (fc2): Linear(in_features=120, out_features=84, bias=True)\n",
      "  (fc3): Linear(in_features=84, out_features=10, bias=True)\n",
      ")\n"
     ]
    }
   ],
   "source": [
    "print(LeNet())"
   ]
  },
  {
   "cell_type": "code",
   "execution_count": 5,
   "metadata": {},
   "outputs": [],
   "source": [
    "net = LeNet()"
   ]
  },
  {
   "cell_type": "code",
   "execution_count": 6,
   "metadata": {},
   "outputs": [],
   "source": [
    "batch_size = 10\n",
    "train_iter, test_iter = load_data_fashion_mnist(batch_size=batch_size)"
   ]
  },
  {
   "cell_type": "code",
   "execution_count": 7,
   "metadata": {},
   "outputs": [],
   "source": [
    "# loss and optimizer\n",
    "loss_function = nn.CrossEntropyLoss()\n",
    "optimizer = torch.optim.Adam(net.parameters(), lr=0.001)"
   ]
  },
  {
   "cell_type": "code",
   "execution_count": 8,
   "metadata": {},
   "outputs": [
    {
     "name": "stdout",
     "output_type": "stream",
     "text": [
      "epoch 1: train accuracy=0.790, test accuracy=0.838\n",
      "epoch 2: train accuracy=0.861, test accuracy=0.863\n",
      "epoch 3: train accuracy=0.878, test accuracy=0.877\n"
     ]
    }
   ],
   "source": [
    "num_epochs = 3\n",
    "\n",
    "for epoch in range(num_epochs): \n",
    "    train_acc = []\n",
    "    test_acc = []\n",
    "    for step, (X_train, y_train) in enumerate(train_iter):\n",
    "        \n",
    "        optimizer.zero_grad()\n",
    "\n",
    "        # forward + backward + optimize\n",
    "        y_hat = net(X_train)\n",
    "        #y_predict = torch.max(y_hat, dim=1)[1]\n",
    "        acc = accuracy(y_hat, y_train) / X_train.shape[0]\n",
    "        train_acc.append(acc)\n",
    "        loss = loss_function(y_hat, y_train)\n",
    "\n",
    "        # backward\n",
    "        loss.backward()\n",
    "\n",
    "        # weight update\n",
    "        optimizer.step()\n",
    "        \n",
    "    with torch.no_grad():\n",
    "        for step, (X_test, y_test) in enumerate(test_iter, start=0):\n",
    "\n",
    "            y_hat = net(X_test)\n",
    "            #y_predict = torch.max(y_hat, dim=1)[1]\n",
    "            test_acc.append(accuracy(y_hat, y_test) / X_test.shape[0])\n",
    "\n",
    "    train_acc = np.mean(np.array(train_acc))\n",
    "    test_acc = np.mean(np.array(test_acc))\n",
    "    \n",
    "    print(f'epoch {epoch+1}: train accuracy={train_acc:.3f}, test accuracy={test_acc:.3f}')"
   ]
  },
  {
   "cell_type": "markdown",
   "metadata": {},
   "source": [
    "- **(10 points) Subtask 2: Project the `self.fc1` and `self.fc2` weights to subspaces with ranks `r1` and `r2`.** \n"
   ]
  },
  {
   "cell_type": "code",
   "execution_count": 9,
   "metadata": {},
   "outputs": [],
   "source": [
    "# extract weight\n",
    "w1 = net.fc1.weight.detach()\n",
    "w2 = net.fc2.weight.detach()\n",
    "\n",
    "# SVD\n",
    "U1, S1, V1 = torch.linalg.svd(w1, full_matrices=False)\n",
    "U2, S2, V2 = torch.linalg.svd(w2, full_matrices=False)\n"
   ]
  },
  {
   "cell_type": "code",
   "execution_count": 10,
   "metadata": {},
   "outputs": [],
   "source": [
    "import copy\n",
    "\n",
    "r1 = int(0.1 * w1.shape[0])\n",
    "r2 = int(0.1 * w2.shape[0])\n",
    "\n",
    "def rank_weight(net, U1, S1, V1, U2, S2, V2, r1, r2):\n",
    "    ranked_net = copy.deepcopy(net)\n",
    "    w1_ranked = np.matmul(np.matmul(U1[:,:r1], np.diag(S1[:r1])), V1[:r1,:])\n",
    "    # print(w1.shape, w1_ranked.shape)\n",
    "    w2_ranked = np.matmul(np.matmul(U2[:,:r2], np.diag(S2[:r2])), V2[:r2,:])\n",
    "    # print(w2.shape, w2_ranked.shape)\n",
    "\n",
    "    ranked_net.fc1.weight.data = torch.Tensor(w1_ranked)\n",
    "    ranked_net.fc2.weight.data = torch.Tensor(w2_ranked)\n",
    "    return ranked_net\n",
    "\n",
    "new_net = rank_weight(net, U1, S1, V1, U2, S2, V2, r1, r2)"
   ]
  },
  {
   "cell_type": "markdown",
   "metadata": {},
   "source": [
    "- **(4 points) Plot a graph with the X-axis representing the %improvement in memory usage of the architure, and on Y-axis the test accuracy of the model. (Hint: play with `r1` and `r2`, and run the inference multiple times. You need not re-train the model)** \n",
    "- **(4 points) Plot a graph of the %improvement in memory usage vs. $\\beta$, which is the percentage of total variation explained in the low-rank subspace. (Hint: Refer to slide 42 of the lecture)**\n",
    "- **(4 points) Plot a graph of test accuracy vs. $\\beta$.** "
   ]
  },
  {
   "cell_type": "markdown",
   "metadata": {},
   "source": [
    "To calculate the memory usage, I search the internet but only found the method to calculate the memory usage of pytorch model on GPU use `torch.cuda.memory_allocated()`. I don't have GPU on my computer and running my model using CPU. So I calculate the parameter instead."
   ]
  },
  {
   "cell_type": "code",
   "execution_count": 11,
   "metadata": {},
   "outputs": [],
   "source": [
    "# def memory_usage(model):\n",
    "#     mem_params = sum([param.nelement()*param.element_size() for param in model.parameters()])\n",
    "#     mem_bufs = sum([buf.nelement()*buf.element_size() for buf in model.buffers()])\n",
    "#     mem = mem_params + mem_bufs\n",
    "#     print(mem)\n",
    "#     return mem\n",
    "\n",
    "# init_mem = memory_usage(net)"
   ]
  },
  {
   "cell_type": "code",
   "execution_count": 28,
   "metadata": {},
   "outputs": [
    {
     "name": "stdout",
     "output_type": "stream",
     "text": [
      "r1: 3, r2: 60  Acc = 0.36  %improvement = 319.0  Beta = 0.411\n",
      "r1: 6, r2: 60  Acc = 0.666  %improvement = 276.5  Beta = 0.588\n",
      "r1: 8, r2: 60  Acc = 0.794  %improvement = 252.7  Beta = 0.677\n",
      "r1: 12, r2: 60  Acc = 0.85  %improvement = 213.1  Beta = 0.775\n",
      "r1: 18, r2: 60  Acc = 0.864  %improvement = 167.9  Beta = 0.847\n",
      "r1: 24, r2: 60  Acc = 0.873  %improvement = 134.2  Beta = 0.888\n",
      "r1: 42, r2: 60  Acc = 0.876  %improvement = 69.9  Beta = 0.946\n"
     ]
    }
   ],
   "source": [
    "n = w1.shape[0]\n",
    "r1_rate = [0.03, 0.05, 0.07, 0.1, 0.15, 0.2, 0.35]\n",
    "r1_ls = [int(x * n) for x in r1_rate]\n",
    "r2_rate = [0.5]\n",
    "r2_ls = [int(x * n) for x in r2_rate]\n",
    "\n",
    "m1,k1 = w1.shape\n",
    "m2,k2 = w2.shape\n",
    "\n",
    "rank_test_acc_ls = []\n",
    "mem_improve_ls = []\n",
    "beta_ls = []\n",
    "\n",
    "for r1 in r1_ls:\n",
    "    for r2 in r2_ls:\n",
    "        test_acc = []\n",
    "\n",
    "        ranked_net = rank_weight(net, U1, S1, V1, U2, S2, V2, r1, r2)\n",
    "\n",
    "        with torch.no_grad():\n",
    "            for step, (X_test, y_test) in enumerate(test_iter, start=0):\n",
    "\n",
    "                y_hat = ranked_net(X_test)\n",
    "                #y_predict = torch.max(y_hat, dim=1)[1]\n",
    "                test_acc.append(accuracy(y_hat, y_test) / X_test.shape[0])\n",
    "\n",
    "        test_acc = round(np.mean(np.array(test_acc)), 3)\n",
    "        print(f'r1: {r1}, r2: {r2}', end='  ')\n",
    "        print('Acc =', test_acc, end='  ')\n",
    "        rank_test_acc_ls.append(test_acc)\n",
    "\n",
    "        # memory\n",
    "        improve = round(((m1 * k1 + m2 * k2) / (m1 * r1 + r1 + r1 * k1 + m2 * r2 + r2 + r2 * k2) - 1) * 100, 1)\n",
    "        print('%improvement =',improve, end='  ')\n",
    "        mem_improve_ls.append(improve)\n",
    "\n",
    "        beta = round((torch.sum(S1[:r1]**2).item() + torch.sum(S2[:r2]**2).item()) / (torch.sum(S1**2).item() + torch.sum(S2**2).item()), 3)\n",
    "        print('Beta =', beta)\n",
    "        beta_ls.append(beta)\n",
    "\n",
    "        \n"
   ]
  },
  {
   "cell_type": "code",
   "execution_count": 29,
   "metadata": {},
   "outputs": [
    {
     "data": {
      "image/png": "[encoded data removed]",
      "text/plain": [
       "<Figure size 432x288 with 1 Axes>"
      ]
     },
     "metadata": {
      "needs_background": "light"
     },
     "output_type": "display_data"
    }
   ],
   "source": [
    "acc_mem_ls = [x for x in zip(mem_improve_ls, rank_test_acc_ls)]\n",
    "acc_mem_ls.sort()\n",
    "\n",
    "plt.xlabel('%Improvement in memory usage')\n",
    "plt.ylabel('Accuracy')\n",
    "plt.plot(*zip(*acc_mem_ls))\n",
    "plt.scatter(*zip(*acc_mem_ls))\n",
    "plt.title('Memory Improvement VS Accuracy')\n",
    "plt.show()"
   ]
  },
  {
   "cell_type": "code",
   "execution_count": 30,
   "metadata": {},
   "outputs": [
    {
     "data": {
      "image/png": "[encoded data removed]",
      "text/plain": [
       "<Figure size 432x288 with 1 Axes>"
      ]
     },
     "metadata": {
      "needs_background": "light"
     },
     "output_type": "display_data"
    }
   ],
   "source": [
    "mem_beta_ls = [x for x in zip(mem_improve_ls, beta_ls)]\n",
    "mem_beta_ls.sort()\n",
    "\n",
    "plt.xlabel('%Improvement in memory usage')\n",
    "plt.ylabel('Beta')\n",
    "plt.plot(*zip(*mem_beta_ls))\n",
    "plt.scatter(*zip(*mem_beta_ls))\n",
    "plt.title('Memory Improvement VS Beta')\n",
    "plt.show()"
   ]
  },
  {
   "cell_type": "code",
   "execution_count": 31,
   "metadata": {},
   "outputs": [
    {
     "data": {
      "image/png": "[encoded data removed]",
      "text/plain": [
       "<Figure size 432x288 with 1 Axes>"
      ]
     },
     "metadata": {
      "needs_background": "light"
     },
     "output_type": "display_data"
    }
   ],
   "source": [
    "acc_beta_ls = [x for x in zip(rank_test_acc_ls, beta_ls)]\n",
    "acc_beta_ls.sort()\n",
    "\n",
    "plt.xlabel('Accuracy')\n",
    "plt.ylabel('Beta')\n",
    "plt.plot(*zip(*acc_beta_ls))\n",
    "plt.scatter(*zip(*acc_beta_ls))\n",
    "plt.title('Accuracy VS Beta')\n",
    "plt.show()"
   ]
  },
  {
   "cell_type": "markdown",
   "metadata": {},
   "source": [
    "# 2. Sparsification (30 points) \n",
    "\n",
    "In this section we will attempt to sparsify the model trained in subtask 1 of previous section. \n",
    "\n",
    "- **Subtask 1: Plot a histogram of the distribution of all the weights in the model.** \n",
    "- **Subtask 2: Implement a module to clip all the weights that have a magntude less than a threshold (say $\\alpha$) to zero.**\n",
    "- **Subtask 3: Run inference for different levels of sparsity by varying $\\alpha$, and plot a graph of sparsity vs. test accuracy.** "
   ]
  },
  {
   "cell_type": "code",
   "execution_count": 16,
   "metadata": {},
   "outputs": [
    {
     "data": {
      "image/png": "[encoded data removed]",
      "text/plain": [
       "<Figure size 432x288 with 1 Axes>"
      ]
     },
     "metadata": {
      "needs_background": "light"
     },
     "output_type": "display_data"
    }
   ],
   "source": [
    "w_conv1= net.conv1.weight.detach().numpy()\n",
    "w_conv2= net.conv2.weight.detach().numpy()\n",
    "w_fc1= net.fc1.weight.detach().numpy()\n",
    "w_fc2= net.fc2.weight.detach().numpy()\n",
    "w_fc3= net.fc3.weight.detach().numpy()\n",
    "\n",
    "all_w = list(w_conv1.reshape(-1)) + list(w_conv2.reshape(-1)) + list(w_fc1.reshape(-1)) + list(w_fc2.reshape(-1)) + list(w_fc3.reshape(-1))\n",
    "\n",
    "plt.hist(all_w)\n",
    "plt.title('Weights Distribution')\n",
    "plt.xlabel('Weight')\n",
    "plt.ylabel('Number')\n",
    "plt.show()"
   ]
  },
  {
   "cell_type": "code",
   "execution_count": 17,
   "metadata": {},
   "outputs": [],
   "source": [
    "def clip_net(net, alpha, w_conv1, w_conv2, w_fc1, w_fc2, w_fc3):\n",
    "\n",
    "    clipped_net = copy.deepcopy(net)\n",
    "\n",
    "    w_conv1_clip=copy.deepcopy(w_conv1)\n",
    "    w_conv2_clip=copy.deepcopy(w_conv2)\n",
    "    w_fc1_clip=copy.deepcopy(w_fc1)\n",
    "    w_fc2_clip=copy.deepcopy(w_fc2)\n",
    "    w_fc3_clip=copy.deepcopy(w_fc3)\n",
    "\n",
    "    w_conv1_clip[np.abs(w_conv1)<alpha]=0\n",
    "    w_conv2_clip[np.abs(w_conv2)<alpha]=0\n",
    "    w_fc1_clip[np.abs(w_fc1)<alpha]=0\n",
    "    w_fc2_clip[np.abs(w_fc2)<alpha]=0\n",
    "    w_fc3_clip[np.abs(w_fc3)<alpha]=0\n",
    "\n",
    "    params_num = np.count_nonzero(w_conv1_clip) + np.count_nonzero(w_conv2_clip) + np.count_nonzero(w_fc1_clip) + np.count_nonzero(w_fc2_clip) + np.count_nonzero(w_fc3_clip)\n",
    "    \n",
    "    clipped_net.conv1.weight.data = torch.Tensor(w_conv1_clip)\n",
    "    clipped_net.conv2.weight.data = torch.Tensor(w_conv2_clip)\n",
    "    clipped_net.fc1.weight.data = torch.Tensor(w_fc1_clip)\n",
    "    clipped_net.fc2.weight.data = torch.Tensor(w_fc2_clip)\n",
    "    clipped_net.fc3.weight.data = torch.Tensor(w_fc3_clip)\n",
    "    \n",
    "    return clipped_net, params_num"
   ]
  },
  {
   "cell_type": "code",
   "execution_count": 22,
   "metadata": {},
   "outputs": [
    {
     "name": "stdout",
     "output_type": "stream",
     "text": [
      "alpha: 0.03 Test_acc: 0.8781 Sparsity: 0.661269\n",
      "alpha: 0.06 Test_acc: 0.8723 Sparsity: 0.405361\n",
      "alpha: 0.1 Test_acc: 0.8599 Sparsity: 0.25183\n",
      "alpha: 0.15 Test_acc: 0.7985 Sparsity: 0.157375\n",
      "alpha: 0.2 Test_acc: 0.6733 Sparsity: 0.09875\n",
      "alpha: 0.3 Test_acc: 0.1001 Sparsity: 0.036816\n"
     ]
    }
   ],
   "source": [
    "alphas = [0.03, 0.06, 0.1, 0.15, 0.2, 0.3]\n",
    "alpha_test_acc_ls = []\n",
    "sparsity_ls = []\n",
    "\n",
    "init_num = len(all_w)\n",
    "\n",
    "for alpha in alphas:\n",
    "\n",
    "    print(\"alpha:\", alpha, end=' ')\n",
    "    \n",
    "    clipped_net, params_num = clip_net(net, alpha, w_conv1, w_conv2, w_fc1, w_fc2, w_fc3)\n",
    "    test_acc = []\n",
    "    with torch.no_grad():\n",
    "        for step, (X_test, y_test) in enumerate(test_iter, start=0):\n",
    "\n",
    "            y_hat = clipped_net(X_test)\n",
    "            #y_predict = torch.max(y_hat, dim=1)[1]\n",
    "            test_acc.append(accuracy(y_hat, y_test) / X_test.shape[0])\n",
    "               \n",
    "    test_acc = round(np.mean(np.array(test_acc)),4)\n",
    "    print(\"Test_acc:\", test_acc, end=' ')\n",
    "    alpha_test_acc_ls.append(test_acc)\n",
    "\n",
    "    sparsity = round(params_num / init_num, 6)\n",
    "    print(\"Sparsity:\", sparsity)\n",
    "    sparsity_ls.append(sparsity)"
   ]
  },
  {
   "cell_type": "code",
   "execution_count": 23,
   "metadata": {},
   "outputs": [
    {
     "data": {
      "image/png": "[encoded data removed]",
      "text/plain": [
       "<Figure size 432x288 with 1 Axes>"
      ]
     },
     "metadata": {
      "needs_background": "light"
     },
     "output_type": "display_data"
    }
   ],
   "source": [
    "sparsity_acc_ls = [x for x in zip(sparsity_ls, alpha_test_acc_ls)]\n",
    "sparsity_acc_ls.sort()\n",
    "\n",
    "plt.xlabel('Accuracy')\n",
    "plt.ylabel('Beta')\n",
    "plt.plot(*zip(*sparsity_acc_ls))\n",
    "plt.scatter(*zip(*sparsity_acc_ls))\n",
    "plt.title('Accuracy VS Beta')\n",
    "plt.show()"
   ]
  },
  {
   "cell_type": "markdown",
   "metadata": {},
   "source": [
    "# 3. Improved RNN (35 points)"
   ]
  },
  {
   "cell_type": "markdown",
   "metadata": {},
   "source": [
    "In this section we will implement a different type of RNN, one with weighted residual connections, and try to analyze it's usefulness. \n",
    "\n",
    "Let $X = [x 1 , . . . , x^T ]$ be the input data where $x_t \\in R^D$ denotes the t-th step feature vector. Then,\n",
    "the goal of multi-class RNNs is to learn a function F : R D×T → {1, . . . , L} that predicts one of L\n",
    "classes for the given data point X. Standard RNN architecture has a provision to produce an output\n",
    "at every time step, but we focus on the setting where each data point is associated with a single label\n",
    "that is predicted at the end of the time horizon T . Standard RNN maintains a vector of hidden state\n",
    "$h_t ∈ R^D̂$ which captures temporal dynamics in the input data, i.e., $$h_t = f(W \\, x_t + U \\, h_{t-1} + b)$$\n",
    "\n",
    "Learning U, W in the above architecture is difficult as the gradient\n",
    "can have exponentially large (in T) condition number, which leads to problems like exploding or vanishing gradients. Instead, ImprovedRNN will use a simple weighted residual connection to perform updates of the hidden state $h_t$ as follows: $$ h̃_t = f(Wx_t + Uh_{t−1} + b)$$  $$h_t = \\alpha h̃_t + βh_{t−1} $$\n",
    "\n",
    "where 0 ≤ α, β ≤ 1 are trainable scalar weights.\n",
    "\n",
    "\n",
    "- **(20 points) Subtask 1: Implement the `ImprovedRNNCell` by extending the RNNCell defined in `eep590_utils.py`, which extends `nn.Module` in pytorch.** "
   ]
  },
  {
   "cell_type": "code",
   "execution_count": 20,
   "metadata": {},
   "outputs": [],
   "source": [
    "class ImprovedRNNCell(RNNCell):\n",
    "    '''\n",
    "    ImprovedRNN Cell with both Full Rank and Low Rank Formulations\n",
    "    Has multiple activation functions for the gates\n",
    "    hidden_size = # hidden units\n",
    "    update_nonlinearity = nonlinearity for final rnn update\n",
    "    can be chosen from [tanh, sigmoid, relu, quantTanh, quantSigm]\n",
    "    wRank = rank of W matrix (creates two matrices if not None)\n",
    "    uRank = rank of U matrix (creates two matrices if not None)\n",
    "    wSparsity = intended sparsity of W matrix(ces)\n",
    "    uSparsity = intended sparsity of U matrix(ces)\n",
    "    The cell will not automatically sparsify. The user must invoke .sparsify() to hard threshold.\n",
    "    alphaInit = init for alpha, the update scalar\n",
    "    betaInit = init for beta, the weight for previous state\n",
    "    Basic architecture is like:\n",
    "    h_t^ = update_nl(Wx_t + Uh_{t-1} + B_h)\n",
    "    h_t = sigmoid(beta)*h_{t-1} + sigmoid(alpha)*h_t^\n",
    "    W and U can further parameterised into low rank version by\n",
    "    W = matmul(W_1, W_2) and U = matmul(U_1, U_2)\n",
    "    '''\n",
    "\n",
    "    def __init__(self, input_size, hidden_size,\n",
    "                 update_nonlinearity=\"tanh\", wRank=None, uRank=None,\n",
    "                 wSparsity=1.0, uSparsity=1.0, alphaInit=-3.0, betaInit=3.0,\n",
    "                 name=\"ImprovedRNN\"):\n",
    "        super(ImprovedRNNCell, self).__init__(input_size, hidden_size,\n",
    "                                           None, update_nonlinearity,\n",
    "                                           1, 1, 1, wRank, uRank, wSparsity,\n",
    "                                           uSparsity)\n",
    "        # TODO: Initialize all the required variables\n",
    "\n",
    "        if wRank == None:\n",
    "            self.W = nn.Parameter(0.1 * torch.randn([input_size, hidden_size]))\n",
    "        else:\n",
    "            self.W1 = nn.Parameter(0.1 * torch.randn([input_size, wRank]))\n",
    "            self.W2 = nn.Parameter(0.1 * torch.randn([wRank, hidden_size]))\n",
    "\n",
    "        if uRank == None:\n",
    "            self.U = nn.Parameter(0.1 * torch.randn([hidden_size, hidden_size]))\n",
    "        else:\n",
    "            self.U1 = nn.Parameter(0.1 * torch.randn([hidden_size, uRank]))\n",
    "            self.U2 = nn.Parameter(0.1 * torch.randn([uRank, hidden_size]))\n",
    "\n",
    "        self.bias_update = nn.Parameter(torch.ones([1, hidden_size]))\n",
    "        self.alpha = nn.Parameter(alphaInit * torch.ones([1, 1]))\n",
    "        self.beta = nn.Parameter(betaInit * torch.ones([1, 1]))\n",
    "\n",
    "\n",
    "    @property\n",
    "    def name(self):\n",
    "        return self._name\n",
    "\n",
    "    @property\n",
    "    def cellType(self):\n",
    "        return \"ImprovedRNN\"\n",
    "\n",
    "    def forward(self, input, state):\n",
    "        # TODO: Implement the forward pass to compute the new_state\n",
    "\n",
    "        if self.W != None:\n",
    "            w_c = torch.matmul(input, self.W)\n",
    "        else:\n",
    "            w_c = torch.matmul(torch.matmul(input, self.W1), self.W2)\n",
    "\n",
    "        if self.U != None:\n",
    "            u_c = torch.matmul(state, self.U)\n",
    "        else:\n",
    "            u_c = torch.matmul(torch.matmul(state, self.U1), self.U2)\n",
    "\n",
    "        c = w_c + u_c + self.bias_update\n",
    "\n",
    "        new_state = torch.sigmoid(self.beta) * state + torch.sigmoid(self.alpha) * c\n",
    "\n",
    "        return new_state"
   ]
  },
  {
   "cell_type": "markdown",
   "metadata": {},
   "source": [
    "- **(10 points) Subtask 2: Explain how Improved RNN resolves some of the problems in traditional RNNs from an optimization perspective.** Assume that the label decision function is one dimensional and is given by $f (X) = v^⊤ h_T$ . Let $L(X, y; θ) = L(f (X), y; θ)$ be the logistic loss function for the given labeled data point $(X, y)$ and with parameters $θ = (W, U, v)$. Then, check the gradients $\\frac{\\partial L}{\\partial W}$ and $\\frac{\\partial L}{\\partial U}$. A critical term in the expression of the gradients that determines whether it explodes/vanishes will be: $$M(U) = \\prod_{k=t}^{T-1} (αU^T D_{k+1} + βI)$$ where $D_k = diag(σ′ (Wx_k + Uh_{k−1} + b))$ is the Jacobian matrix of the pointwise nonlinearity. **Hint: Analyze the range of possible values for the condition number $\\kappa$ of the matrix $M(U)$**. \n"
   ]
  },
  {
   "cell_type": "markdown",
   "metadata": {},
   "source": [
    "From the $M(U)$, we can get the range of condition number $k$:\n",
    "$$ k \\le \\frac{(1+\\frac{\\alpha}{\\beta} \\max _k||U^T D_{k+1}||)^{T-t}}{(1-\\frac{\\alpha}{\\beta} \\max _k||U^T D_{k+1}||)^{T-t}} $$\n",
    "\n",
    "If $\\alpha$ = 1 and $\\beta$ = 0. The gradient condition number of a standard RNN can be an exponential of T. This means that, relative to the mean eigenvalue, the gradient can grow or disappear infinitely in some directions, resulting in instability during training.\n",
    "In contrast to standard RNNs, the condition number κM(U) of FastRNNs is bounded, bounded by a small term. By using residual connections, FastRNN is able to solve this problem and thus has a faster training speed and a more accurate model compared to traditional RNNs.\n"
   ]
  },
  {
   "cell_type": "markdown",
   "metadata": {},
   "source": [
    "- **(5 points) Subtask 3: Explain why this result is useful in the context of embedded real-time applications. Comment on representation power, memory-usage, and computation.** "
   ]
  },
  {
   "cell_type": "markdown",
   "metadata": {},
   "source": [
    "The improved RNN compared to the traditional RNN have the higher representation power with reduced computation and reduced model size. It reduces the memory-usage, and training time.\n",
    "\n",
    "The smaller models size and faster training time make is useful in the embedded real-time applications"
   ]
  },
  {
   "cell_type": "markdown",
   "metadata": {},
   "source": [
    "# 4. References & Misc. (15 points) \n",
    "\n",
    "**(a.) How many hours (approx) did you spend on this assignment totally? Document and explain your journey, including the issues/challenges you faced (both technical and non-technical).**\n",
    "\n"
   ]
  },
  {
   "cell_type": "markdown",
   "metadata": {},
   "source": [
    "I probably spent over 40 hours on this assignment.\n",
    "\n",
    "There are two main challenges in finish this homework.\n",
    "First is the conceptual questions. Although they have been mentioned in class, in order to answer these conceptual questions, I need to fully understand these concepts, which led me to spend a long time looking for relevant materials and understanding concepts.\n",
    "\n",
    "The second is the coding. Before this class, I didn't have any experience with pytorch. I only knew a few about traditional machine learning, and didn't know much about the model and application of deep learning. So it took a long time to find and learn how to use some function in pytorch to finish the homework."
   ]
  },
  {
   "cell_type": "markdown",
   "metadata": {},
   "source": [
    "**(b.) Cite all the resources and references you consulted to complete this assignment.** \n",
    "\n",
    "[1] Depth-wise Separable Convolutions for ML. https://eli.thegreenplace.net/2018/depthwise-separable-convolutions-for-machine-learning/\n",
    "\n",
    "[2] Audio Deep Learning https://towardsdatascience.com/audio-deep-learning-made-simple-part-1-state-of-the-art-techniques-da1d3dff2504\n",
    "\n",
    "[3] Scree Plot https://sanchitamangale12.medium.com/scree-plot-733ed72c8608\n",
    "\n",
    "[4] SqueezeNet https://blog.csdn.net/wfei101/article/details/77279547\n",
    "\n",
    "[5] SqueezeNet https://cloud.tencent.com/developer/article/1424934\n",
    "\n",
    "[6] MobileNet Essay https://arxiv.org/abs/1704.04861\n",
    "\n",
    "[7] MobileNet https://lixudong.ink/2019/12/13/MobileNet系列/\n",
    "\n",
    "[8] Pytorch RNN https://pytorch.org/docs/stable/_modules/torch/nn/modules/rnn.html\n",
    "\n",
    "[9] Fast RNN https://arxiv.org/abs/1901.02358\n",
    "\n",
    "[10] Different RNN https://zhuanlan.zhihu.com/p/40986674"
   ]
  }
 ],
 "metadata": {
  "interpreter": {
   "hash": "daf302ee44f1a774dac5ffd3a70ddee2099eff9a71d31c63aef06c6b735ae96f"
  },
  "kernelspec": {
   "display_name": "Python 3.9.12 ('main')",
   "language": "python",
   "name": "python3"
  },
  "language_info": {
   "codemirror_mode": {
    "name": "ipython",
    "version": 3
   },
   "file_extension": ".py",
   "mimetype": "text/x-python",
   "name": "python",
   "nbconvert_exporter": "python",
   "pygments_lexer": "ipython3",
   "version": "3.9.12"
  }
 },
 "nbformat": 4,
 "nbformat_minor": 4
}
