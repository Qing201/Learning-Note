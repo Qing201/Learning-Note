{
 "cells": [
  {
   "cell_type": "markdown",
   "metadata": {},
   "source": [
    "# Recommender Systems PMP | Summer 2022 | Programming Assignment 2"
   ]
  },
  {
   "cell_type": "markdown",
   "metadata": {},
   "source": [
    "# Assignment Objective:\n",
    "As we saw in the lecture, matrix factorization methods are able to address the limitations of SVD. In this assignment, we compare and contrast different approaches for the popular Movie Lens data set. Specifically, we'll understand the workings of MF techniques and compare their performance in the context of rating prediction problem in Recommender Systems. We will compare the performance of a un-personalized method (global average rating) with personalized methods like SVD and SGD. "
   ]
  },
  {
   "cell_type": "markdown",
   "metadata": {
    "tags": []
   },
   "source": [
    "# Deliverables"
   ]
  },
  {
   "cell_type": "markdown",
   "metadata": {},
   "source": [
    "Please fill in and complete the code in the notebook below - You will be graded on code completeness AND results as well."
   ]
  },
  {
   "cell_type": "markdown",
   "metadata": {},
   "source": [
    "\n",
    "# Dataset Description - Movie Lens 100K\n",
    "Movie Lens is a popular data set used to compare the performance of recommendation algorithms in academia. Movie Lens 100K is a subset of the complete data and it has the following characteristics:\n",
    "1. 100,000 ratings (1-5) from 943 users on 1682 movies. \n",
    "1. Each user has rated at least 20 movies.\n",
    "1. The user item rating matrix is sparse. Only 100K out of the possible ~1.5 Million (943 * 1682) entries are present.\n",
    "\n",
    "More details can be found here - https://grouplens.org/datasets/movielens/100k/\n"
   ]
  },
  {
   "cell_type": "markdown",
   "metadata": {},
   "source": [
    "# Load the Dataset\n",
    "Since the dataset is sparse, we will utilize the csr_matrix format to store the data. CSR (Compressed Sparse Row) is a sparse matrix format which only stores the non-zero entries of the matrix. More details on this format and the python's scipy implementation can be found here:\n",
    "1. https://en.wikipedia.org/wiki/Sparse_matrix#Compressed_sparse_row_(CSR,_CRS_or_Yale_format)\n",
    "1. https://docs.scipy.org/doc/scipy-0.14.0/reference/generated/scipy.sparse.csr_matrix.html\n",
    "\n",
    "Apart from CSR, other popular sparse matrix formats are CSC (Compressed Sparse Column) and COO (Coordinate list or triplets). Details can be found here - https://en.wikipedia.org/wiki/Sparse_matrix\n",
    "\n",
    "For notational convention, we will use \n",
    "1. '_sparse' for sparse version of the matrix (for ex: train_sparse, test_sparse) \n",
    "1. '_dense' for dense version of the matrix (for ex: train_dense, test_dense) \n",
    "1. '_hat\\_()' for the predicted values (for ex: R_hat_svd for predicted rating matrix of svd)"
   ]
  },
  {
   "cell_type": "markdown",
   "metadata": {},
   "source": [
    "## data_class\n",
    "\n",
    "Make sure you understand what each of X_*, Y_* and *_sparse data structures and the difference between them in this class\n",
    "1. X_* represents the non-zero indices (row, col) in the matrix and Y_* represents the corresponding non-zero values\n",
    "1. *_sparse represents the csr_matrix version of the matrix"
   ]
  },
  {
   "cell_type": "code",
   "execution_count": 1,
   "metadata": {},
   "outputs": [],
   "source": [
    "import pandas as pd\n",
    "import numpy as np\n",
    "import numpy.linalg as la\n",
    "import math\n",
    "import matplotlib.pyplot as plt\n",
    "#from mxnet import nd\n",
    "#from mxnet import gluon\n",
    "from scipy.sparse import csr_matrix\n",
    "\n",
    "\n",
    "class data_class:\n",
    "    def __init__(self):\n",
    "        prefix = './ml-100k/' # This is where your data is stored - CHANGE it to an appropriate LOCAL drive\n",
    "        header = ['user', 'movie', 'rating', 'timestamp']\n",
    "        self.train_file = prefix + \"u1.base\"\n",
    "        self.test_file = prefix + \"u1.test\"\n",
    "        \n",
    "        self.X_train, self.Y_train, self.train_sparse = self.get_data_from_file(self.train_file, header)\n",
    "        self.mx_row = self.train_sparse.shape[0] \n",
    "        self.mx_col = self.train_sparse.shape[1] \n",
    "        self.X_test, self.Y_test, self.test_sparse = self.get_data_from_file(self.test_file, header)\n",
    "    \n",
    "    def get_data_from_file(self, file_name, header):\n",
    "        df = pd.read_csv(file_name, delimiter='\\t', header = None)\n",
    "        df.columns = header\n",
    "        print(\"Read: %s, Rows: %d, Cols: %d\" % (file_name, df.shape[0], df.shape[1]))\n",
    "        return self.get_sparse_matrix(df, header[0], header[1], header[2], 943, 1682)\n",
    "        \n",
    "    def get_sparse_matrix(self, df, row_name, col_name, data_name, n_rows, n_cols):\n",
    "        rows = np.array(df[row_name])\n",
    "        cols = np.array(df[col_name])\n",
    "        X = np.array(np.vstack((rows - 1, cols - 1))).T\n",
    "        data = np.array(df[data_name])\n",
    "        # start from index 0\n",
    "        sparse_mat = csr_matrix((data, (rows - 1, cols - 1)), shape = (n_rows, n_cols), dtype = float)\n",
    "        return X, np.array(data).reshape((data.shape[0], 1)), sparse_mat\n",
    "\n",
    "    def add_data_loader(self, data_loader):\n",
    "        self.data_loader = data_loader"
   ]
  },
  {
   "cell_type": "code",
   "execution_count": 2,
   "metadata": {},
   "outputs": [
    {
     "name": "stdout",
     "output_type": "stream",
     "text": [
      "Read: ./ml-100k/u1.base, Rows: 80000, Cols: 4\n",
      "Read: ./ml-100k/u1.test, Rows: 20000, Cols: 4\n",
      "(80000, 2)\n",
      "[[ 0  0]\n",
      " [ 0  1]\n",
      " [ 0  2]\n",
      " [ 0  3]\n",
      " [ 0  4]\n",
      " [ 0  6]\n",
      " [ 0  7]\n",
      " [ 0  8]\n",
      " [ 0 10]\n",
      " [ 0 12]\n",
      " [ 0 14]\n",
      " [ 0 15]\n",
      " [ 0 17]\n",
      " [ 0 18]\n",
      " [ 0 20]\n",
      " [ 0 21]\n",
      " [ 0 24]\n",
      " [ 0 25]\n",
      " [ 0 27]\n",
      " [ 0 28]\n",
      " [ 0 29]\n",
      " [ 0 31]\n",
      " [ 0 33]\n",
      " [ 0 34]\n",
      " [ 0 36]]\n"
     ]
    }
   ],
   "source": [
    "d_inst = data_class()\n",
    "print(d_inst.X_train.shape)\n",
    "print(d_inst.X_train[:25,:])\n",
    "#print(d_inst.Y_train[:25,:])\n",
    "#print(d_inst.X_test[:25,:])\n",
    "#print(d_inst.Y_test[:25,:])"
   ]
  },
  {
   "cell_type": "markdown",
   "metadata": {},
   "source": [
    "## Data Set Characteristics\n",
    "\n",
    "Before starting to build a model, it is a good idea to understand the characteristics of the data. Now, we'll compute the following simple statistics of this data set\n",
    "1. Size of the rating matrix \n",
    "1. Rating distribution"
   ]
  },
  {
   "cell_type": "code",
   "execution_count": 3,
   "metadata": {},
   "outputs": [
    {
     "name": "stdout",
     "output_type": "stream",
     "text": [
      "Read: ./ml-100k/u1.base, Rows: 80000, Cols: 4\n",
      "Read: ./ml-100k/u1.test, Rows: 20000, Cols: 4\n",
      "Training Matrix\n",
      "[[5. 3. 4. 3. 3.]\n",
      " [4. 0. 0. 0. 0.]\n",
      " [0. 0. 0. 0. 0.]\n",
      " [0. 0. 0. 0. 0.]\n",
      " [0. 0. 0. 0. 0.]]\n",
      "(943, 1682)\n",
      "80000\n",
      "Test Matrix\n",
      "[[0. 0. 0. 0. 0.]\n",
      " [0. 0. 0. 0. 0.]\n",
      " [0. 0. 0. 0. 0.]\n",
      " [0. 0. 0. 0. 0.]\n",
      " [4. 3. 0. 0. 0.]]\n",
      "(943, 1682)\n",
      "20000\n",
      "80000\n"
     ]
    },
    {
     "data": {
      "image/png": "[encoded data removed]",
      "text/plain": [
       "<Figure size 432x288 with 1 Axes>"
      ]
     },
     "metadata": {
      "needs_background": "light"
     },
     "output_type": "display_data"
    }
   ],
   "source": [
    "# Inspect the read matrices\n",
    "data_inst = data_class()\n",
    "\n",
    "print(\"Training Matrix\")\n",
    "print(data_inst.train_sparse[:5, :5].todense())\n",
    "print(data_inst.train_sparse.shape)\n",
    "print(data_inst.train_sparse.nnz)\n",
    "\n",
    "print(\"Test Matrix\")\n",
    "print(data_inst.test_sparse[:5, :5].todense())\n",
    "print(data_inst.test_sparse.shape)\n",
    "print(data_inst.test_sparse.nnz)\n",
    "\n",
    "# Distribution plots\n",
    "ratings = data_inst.Y_train\n",
    "print(len(ratings))\n",
    "plt.hist(ratings, bins = np.arange(0, 7), align = 'left', width = 0.7)\n",
    "plt.show()"
   ]
  },
  {
   "cell_type": "markdown",
   "metadata": {},
   "source": [
    "# Evaluation Metric\n",
    "To evaluate the performance of each method, we will utilize RMSE (Root Mean Squared Error) as the evaluation metric which computes the rating prediction error. Given 'r' as the actual rating, 'r_hat' the predicted rating and 'n' ratings to predict in test set, RMSE is defined as, sqrt(mean((y_hat - y)**2)) for all ratings in test set.\n",
    "\n",
    "More details on RMSE can be found here - https://en.wikipedia.org/wiki/Root-mean-square_deviation"
   ]
  },
  {
   "cell_type": "code",
   "execution_count": 4,
   "metadata": {},
   "outputs": [],
   "source": [
    "def rmse(test_mat, r_hat):\n",
    "    (rows, cols) = test_mat.nonzero()\n",
    "    rmse = 0\n",
    "    for i in np.arange(test_mat.nnz):\n",
    "        actual = test_mat[rows[i], cols[i]]\n",
    "        prediction = r_hat[rows[i], cols[i]]\n",
    "        error = (prediction - actual)\n",
    "        rmse += (error * error)\n",
    "    \n",
    "    rmse /= (1.0 * test_mat.nnz)\n",
    "    rmse = math.sqrt(rmse)\n",
    "    return rmse"
   ]
  },
  {
   "cell_type": "markdown",
   "metadata": {},
   "source": [
    "# Problem 1: Global Average Rating\n",
    "Implment an un-personalized recommendation algorithm where the global average rating for each item over all users who have rated that item in the training data set is used as the predicted rating. This means, for a given movie the same prediction value is used for all (un-rated) users. "
   ]
  },
  {
   "cell_type": "code",
   "execution_count": 5,
   "metadata": {},
   "outputs": [
    {
     "name": "stdout",
     "output_type": "stream",
     "text": [
      "(943, 1682)\n"
     ]
    },
    {
     "data": {
      "text/plain": [
       "(1, 1682)"
      ]
     },
     "execution_count": 5,
     "metadata": {},
     "output_type": "execute_result"
    }
   ],
   "source": [
    "print(data_inst.train_sparse.todense().shape)\n",
    "\n",
    "dense_mat = data_inst.train_sparse.todense()\n",
    "\n",
    "dense_mat[0,:].shape"
   ]
  },
  {
   "cell_type": "code",
   "execution_count": 6,
   "metadata": {},
   "outputs": [
    {
     "name": "stdout",
     "output_type": "stream",
     "text": [
      "Read: ./ml-100k/u1.base, Rows: 80000, Cols: 4\n",
      "Read: ./ml-100k/u1.test, Rows: 20000, Cols: 4\n",
      "Item Averages: [3.89295039 3.18095238 3.         ... 2.         3.         3.        ]\n",
      "Shape of R_hat: (943, 1682)\n"
     ]
    },
    {
     "name": "stderr",
     "output_type": "stream",
     "text": [
      "/var/folders/nl/jzl2sdyd5g7gv2bk8lfg29tr0000gn/T/ipykernel_28333/1481625693.py:11: RuntimeWarning: invalid value encountered in true_divide\n",
      "  item_means = np.array(item_sums) / np.array(item_counts)\n"
     ]
    },
    {
     "name": "stdout",
     "output_type": "stream",
     "text": [
      "Test RMSE: 1.0361\n"
     ]
    }
   ],
   "source": [
    "# Compute rating means for each item\n",
    "def get_item_avg(sparse_mat):\n",
    "    ## YOUR CODE HERE\n",
    "    item_sums = []\n",
    "    item_counts = []\n",
    "    dense_mat = sparse_mat.todense()\n",
    "    for i in range(dense_mat.shape[1]):\n",
    "        item_rates = dense_mat[:,i]\n",
    "        item_sums.append(np.sum(item_rates))\n",
    "        item_counts.append(np.count_nonzero(item_rates))\n",
    "    item_means = np.array(item_sums) / np.array(item_counts)\n",
    "\n",
    "    # Handle NaN due to divide by zero\n",
    "    item_means[np.isnan(item_means)] = 0\n",
    "    return item_means\n",
    "\n",
    "data_inst = data_class()\n",
    "train_sparse = data_inst.train_sparse\n",
    "test_sparse = data_inst.test_sparse\n",
    "\n",
    "\n",
    "# Compute the average item rating \n",
    "item_means = get_item_avg(train_sparse)\n",
    "print(\"Item Averages: %s\" % (item_means))\n",
    "\n",
    "## YOUR CODE HERE\n",
    "# Compute the R_hat matrix.\n",
    "R_hat_avg_rating = np.tile(item_means, (test_sparse.shape[0], 1))\n",
    "print('Shape of R_hat:', R_hat_avg_rating.shape)\n",
    "\n",
    "## YOUR CODE HERE\n",
    "# Compute test rmse\n",
    "test_rmse = rmse(test_sparse, R_hat_avg_rating)\n",
    "print(\"Test RMSE: %.4f\" % test_rmse)"
   ]
  },
  {
   "cell_type": "markdown",
   "metadata": {},
   "source": [
    "Global item average rating seems to be doing pretty well with a RMSE close to 1.0. Any guesses on why do you think it is a doing a good job even though it is a non-personalized method?\n",
    "Hint: Plot and compare the item average rating histogram with test set's rating histogram.\n",
    "\n",
    "(Write down your answer here)"
   ]
  },
  {
   "cell_type": "markdown",
   "metadata": {},
   "source": [
    "**Answer:**\n",
    "\n",
    "Because the average rating reflects the average level of the movie, most USER ratings are around this average score, so even in the test set, there is no large error in calculating the MSE of the actual value versus the average.\n",
    "\n",
    "Also, when calculating MSE, only the ratings that exist will be added to the calculation. Those movies with high popularity will have more people rating them and the average score will be more accurate, thus reducing the MSE in the test dataset, while other movies with low popularity will have less people rating them, and even if some of the ratings used for the test deviate too much from the average, very low number of them will not increase the MSE value too much."
   ]
  },
  {
   "cell_type": "code",
   "execution_count": 7,
   "metadata": {},
   "outputs": [
    {
     "data": {
      "image/png": "[encoded data removed]",
      "text/plain": [
       "<Figure size 432x288 with 1 Axes>"
      ]
     },
     "metadata": {
      "needs_background": "light"
     },
     "output_type": "display_data"
    },
    {
     "data": {
      "image/png": "[encoded data removed]",
      "text/plain": [
       "<Figure size 432x288 with 1 Axes>"
      ]
     },
     "metadata": {
      "needs_background": "light"
     },
     "output_type": "display_data"
    }
   ],
   "source": [
    "# Plot the item_means distribution\n",
    "plt.hist(item_means, bins = np.arange(0, 7), align = 'left', width = 0.8)\n",
    "plt.title('Average Rating')\n",
    "plt.show()\n",
    "plt.hist(test_sparse.data, bins = np.arange(0, 7), align = 'left', width = 0.8)\n",
    "plt.title('test set rating')\n",
    "plt.show()"
   ]
  },
  {
   "cell_type": "markdown",
   "metadata": {},
   "source": [
    "# Problem 2: Sparse SVD\n",
    "Perform SVD on the matrix train_sparse to compute the 'k' dimensional user and item factor matrices. Utilize the user and item factor matrices to predict the ratings for test_sparse matrix and then compute the RMSE.\n",
    "\n",
    "Note, \n",
    "1. To compute the SVD, fill in the missing entries in train_sparse with 0. \n",
    "1. Since train_sparse is a sparse matrix, utilize the svds method from scipy"
   ]
  },
  {
   "cell_type": "code",
   "execution_count": 8,
   "metadata": {},
   "outputs": [
    {
     "name": "stdout",
     "output_type": "stream",
     "text": [
      "Read: ./ml-100k/u1.base, Rows: 80000, Cols: 4\n",
      "Read: ./ml-100k/u1.test, Rows: 20000, Cols: 4\n",
      "(943, 6) (6,) (6, 1682)\n",
      "Training Loss: 831.826984903358721\n",
      "Test RMSE: 2.9162\n"
     ]
    }
   ],
   "source": [
    "# Sparse SVD\n",
    "import scipy.sparse.linalg as sla\n",
    "\n",
    "data_inst = data_class()\n",
    "train_sparse = data_inst.train_sparse\n",
    "n_factors = 10\n",
    "\n",
    "## YOUR CODE HERE\n",
    "# Compute the sparse svd using svds\n",
    "Uslice, Sslice, Vslice = sla.svds(train_sparse.todense())\n",
    "print(Uslice.shape, Sslice.shape, Vslice.shape)\n",
    "\n",
    "## YOUR CODE HERE\n",
    "# Compute the R_hat_svd\n",
    "test_sparse = data_inst.test_sparse\n",
    "R_hat_svd = Uslice.dot(np.diag(Sslice)).dot(Vslice)\n",
    "print(\"Training Loss: %.15f\" % (la.norm(train_sparse.todense() - R_hat_svd)))\n",
    "\n",
    "## YOUR CODE HERE\n",
    "# Compute the RMSE for test set using the rmse() function\n",
    "test_rmse = rmse(test_sparse, R_hat_svd)\n",
    "print(\"Test RMSE: %.4f\" % test_rmse)"
   ]
  },
  {
   "cell_type": "markdown",
   "metadata": {},
   "source": [
    "SVD seems to be doing a poor job compared to Global Item Average Rating in terms of RMSE on test set. Any guesses on why this is so? This about this before heading into the next question.\n",
    "Hint: What are we filling the missing values in the matrix with? How does that value affect the SVD factorization?\n",
    "\n",
    "We'll explore more on this in the next problem"
   ]
  },
  {
   "cell_type": "markdown",
   "metadata": {},
   "source": [
    "**Answer:**\n",
    "This SVD method seems did a bad job because we are filling the missing values with 0. Because the dataset is a sparse dataset, we are filling in a lot of 0s into the data matrix. The filled zeros are not ignored but are used as a valid score in the SVD calculation. In fact, the user's rating is at least 1, and in most cases, the predicted user's rating should be around the average, which leads to a large error between the actual results and predicted result from the SVD."
   ]
  },
  {
   "cell_type": "markdown",
   "metadata": {},
   "source": [
    "# Problem 3: SVD with Imputed Values\n",
    "The not so good performane of the SVD in terms of RMSE on test set can be attributed to the fact that we are imputing the missing values with zeros. Thus, SVD tries to factorize the imputed matrix to fit zeros for missing values, thereby increasing the test RMSE. Instead of imputing the missing values with zeros, we can do a better job by utilizing the existing training data and impute the missing value with either the global item average rating or user average rating. Utilize the item_means that you calculated before to fill in the missing values in the train array before computing the SVD"
   ]
  },
  {
   "cell_type": "code",
   "execution_count": 9,
   "metadata": {},
   "outputs": [
    {
     "name": "stderr",
     "output_type": "stream",
     "text": [
      "/var/folders/nl/jzl2sdyd5g7gv2bk8lfg29tr0000gn/T/ipykernel_28333/1481625693.py:11: RuntimeWarning: invalid value encountered in true_divide\n",
      "  item_means = np.array(item_sums) / np.array(item_counts)\n"
     ]
    },
    {
     "name": "stdout",
     "output_type": "stream",
     "text": [
      "(943, 6) (6,) (6, 1682)\n",
      "(943, 6) (6,) (6, 1682)\n",
      "Training Loss: 265.471545812317061\n",
      "Test RMSE: 0.9996\n"
     ]
    }
   ],
   "source": [
    "# Impute with Item/User Averages\n",
    "train_dense = train_sparse.todense()\n",
    "n_factors = 6\n",
    "\n",
    "## YOUR CODE HERE\n",
    "# Compute item averages (utilize the code that you implemented in problem 1)\n",
    "item_means = get_item_avg(train_sparse)\n",
    "\n",
    "## YOUR CODE HERE\n",
    "# Replace zeros in train_dense with their corresponding item average value. \n",
    "# You can get/set a specific value (i, j) in train_dense using train_dense[i, j]\n",
    "for j in range(train_dense.shape[1]):\n",
    "    train_dense[:, j][train_dense[:, j]==0]=item_means[j]\n",
    "\n",
    "\n",
    "## YOUR CODE HERE\n",
    "# Now that the matrix is dense, utilize the dense svd to compute the factor matrices\n",
    "U, S, V = sla.svds(train_dense, k=6)\n",
    "print(U.shape, S.shape, V.shape)\n",
    "\n",
    "## YOUR CODE HERE\n",
    "# Compute the sliced matrices based on n_factors\n",
    "Uslice = U[:, :n_factors]\n",
    "Sslice = S[:n_factors]\n",
    "Vslice = V[:n_factors, :]\n",
    "print(Uslice.shape, Sslice.shape, Vslice.shape)\n",
    "\n",
    "## YOUR CODE HERE\n",
    "# Compute R_hat_dense_svd\n",
    "R_hat_dense_svd = Uslice.dot(np.diag(Sslice)).dot(Vslice)\n",
    "print(\"Training Loss: %.15f\" % (la.norm(train_dense - R_hat_dense_svd)))\n",
    "\n",
    "# Compute test RMSE\n",
    "test_rmse = rmse(test_sparse, R_hat_dense_svd)\n",
    "print(\"Test RMSE: %.4f\" % test_rmse)"
   ]
  },
  {
   "cell_type": "code",
   "execution_count": 10,
   "metadata": {},
   "outputs": [
    {
     "name": "stdout",
     "output_type": "stream",
     "text": [
      "Read: ./ml-100k/u1.base, Rows: 80000, Cols: 4\n",
      "Read: ./ml-100k/u1.test, Rows: 20000, Cols: 4\n",
      "Shape of user_means: (943,)\n",
      "Shape of R_hat: (943, 1682)\n",
      "3.8\n",
      "Test RMSE: 1.0630\n"
     ]
    }
   ],
   "source": [
    "# User means\n",
    "# Compute rating means for each uesr\n",
    "def get_user_avg(sparse_mat):\n",
    "    ## YOUR CODE HERE\n",
    "    user_sums = []\n",
    "    user_counts = []\n",
    "    dense_mat = sparse_mat.todense()\n",
    "    for i in range(dense_mat.shape[0]):\n",
    "        user_rates = dense_mat[i,:]\n",
    "        user_sums.append(np.sum(user_rates))\n",
    "        user_counts.append(np.count_nonzero(user_rates))\n",
    "    user_means = np.array(user_sums) / np.array(user_counts)\n",
    "\n",
    "    # Handle NaN due to divide by zero\n",
    "    user_means[np.isnan(user_means)] = 0\n",
    "    return user_means\n",
    "\n",
    "data_inst = data_class()\n",
    "train_sparse = data_inst.train_sparse\n",
    "test_sparse = data_inst.test_sparse\n",
    "\n",
    "# Compute the average user rating \n",
    "user_means = get_user_avg(train_sparse)\n",
    "print('Shape of user_means:',user_means.shape)\n",
    "\n",
    "## YOUR CODE HERE\n",
    "# Compute the R_hat matrix.\n",
    "R_hat_avg_rating = np.tile(user_means.reshape(len(user_means),1), (test_sparse.shape[1]))\n",
    "print('Shape of R_hat:', R_hat_avg_rating.shape)\n",
    "print(R_hat_avg_rating[1][2])\n",
    "\n",
    "## YOUR CODE HERE\n",
    "# Compute test rmse\n",
    "test_rmse = rmse(test_sparse, R_hat_avg_rating)\n",
    "print(\"Test RMSE: %.4f\" % test_rmse)"
   ]
  },
  {
   "cell_type": "markdown",
   "metadata": {},
   "source": [
    "We can see that by imputing with item averages the performance drastically improved and it now performs better than item global average (non-personalized method). How would the performance change if user average ratings are utilized instead of item average ratings? Go back and try it out and see which one performs better"
   ]
  },
  {
   "cell_type": "markdown",
   "metadata": {},
   "source": [
    "**Answer:**\n",
    "The RMSE of user global average is 1.0630, and the RMSE of item global average is 1.0361. The RMSE of item global average is a little smaller than RMSE of user global average. This difference is very small."
   ]
  },
  {
   "cell_type": "markdown",
   "metadata": {},
   "source": [
    "# Problem 4: SVD on Global Average Rating Values \n",
    "In problem 3, we imputed the missing values of user rating matrix with global item average ratings and performed the SVD on the imputed matrix. Instead, what if we utilized only the global average ratings for each user and then performed SVD on that. That is, every user has the same set of ratings (same as R_hat_avg_rating from Problem 1). How would the performance (test RMSE) change based on changing n_factors (20, 10, 5, 1)? Do you observe anything strange? \n",
    "\n",
    "Hint: Examine the singular values in S matrix"
   ]
  },
  {
   "cell_type": "code",
   "execution_count": 11,
   "metadata": {},
   "outputs": [
    {
     "name": "stdout",
     "output_type": "stream",
     "text": [
      "n =  20\n",
      "Training Loss: 281.613942109279435\n",
      "Test RMSE: 1.0361\n",
      "n =  10\n",
      "Training Loss: 3991.511420036853906\n",
      "Test RMSE: 3.7193\n",
      "n =  5\n",
      "Training Loss: 3991.511420036853906\n",
      "Test RMSE: 3.7193\n",
      "n =  1\n",
      "Training Loss: 3991.511420036853906\n",
      "Test RMSE: 3.7193\n",
      "S =  [   0.            0.            0.            0.            0.\n",
      "    0.            0.            0.            0.            0.\n",
      "    0.            0.            0.            0.            0.\n",
      "    0.            0.            0.            0.         3981.56464269]\n"
     ]
    }
   ],
   "source": [
    "n_factors = [20, 10, 5, 1]\n",
    "\n",
    "## YOUR CODE HERE\n",
    "# Utilize the R_hat_avg_rating to compute the SVD factor matrices\n",
    "R_hat_avg_rating = np.tile(item_means, (test_sparse.shape[0], 1))\n",
    "U, S, V = sla.svds(R_hat_avg_rating, k=20)\n",
    "# print(\"Shape of U,S,V: \", U.shape, S.shape, V.shape)\n",
    "    \n",
    "for n in n_factors:\n",
    "    print(\"n = \", n)\n",
    "\n",
    "    Uslice = U[:, :n]\n",
    "    Sslice = S[:n]\n",
    "    Vslice = V[:n, :]\n",
    "    # print(\"Shape of U,S,V sliced: \", Uslice.shape, Sslice.shape, Vslice.shape)\n",
    "\n",
    "    ## YOUR CODE HERE\n",
    "    # Compute the R_hat_svd_avg_rating matrix using the slice matrices from above\n",
    "    R_hat_svd_avg_rating = Uslice.dot(np.diag(Sslice)).dot(Vslice)\n",
    "    print(\"Training Loss: %.15f\" % (la.norm(train_dense - R_hat_svd_avg_rating)))\n",
    "\n",
    "    test_rmse = rmse(test_sparse, R_hat_svd_avg_rating)\n",
    "    print(\"Test RMSE: %.4f\" % test_rmse)\n",
    "\n",
    "print(\"S = \", S)"
   ]
  },
  {
   "cell_type": "markdown",
   "metadata": {},
   "source": [
    "**Answer:**\n",
    "\n",
    "The performance of full SVD is same to the global average rating. The performance of other sliced SVD with factors n is same, and the RMSE is 3.7193. It is a huge error.\n",
    "\n",
    "When print the S out, we find there are only one non-zero value in S matrix and it is the last one in S. Because of this, no matter what number the factor n is, the sliced SVD will cut out this only non-zero value. In this case, all the number in r_hat is 0, and the RMSE is calculate the error between 0 and true rating score."
   ]
  },
  {
   "cell_type": "markdown",
   "metadata": {},
   "source": [
    "# Problem 5: SGD\n",
    "Implement SGD method to compute the user and item factor matrices (U and V). (In the assignment code below, we use Pytorch (actually Torch) as the framework for implementing automatic differentiation. However, you can also use Pytorch to do the same.)  Utilize the computed U and V matrices to compute the prediction for test_sparse matrix and compute the RMSE. Tune different hyperparameters and understand how they impact the train and test RMSE. \n",
    "\n",
    "This problem is broken down into multiple classes. You need to fill in some code in each of the classes. Each class has an associated unit test function which will help you validate if you have coded that class correctly."
   ]
  },
  {
   "cell_type": "markdown",
   "metadata": {},
   "source": [
    "## SGD Model Class \n",
    "\n",
    "This class contain the model parameters and computes the rating predictions based on the current state of the model parameters"
   ]
  },
  {
   "cell_type": "code",
   "execution_count": 12,
   "metadata": {},
   "outputs": [
    {
     "name": "stdout",
     "output_type": "stream",
     "text": [
      "U Shape: (100, 10), Expected U shape: (100, 10)\n",
      "V Shape: (10, 200), Expected V shape: (10, 200)\n"
     ]
    }
   ],
   "source": [
    "import torch\n",
    "\n",
    "class model:\n",
    "    def __init__(self, n_factors, mx_row, mx_col):\n",
    "        self.n_factors = n_factors\n",
    "        self.mx_row = mx_row\n",
    "        self.mx_col = mx_col\n",
    "        self.initialize_model_parameters()\n",
    "    \n",
    "    def initialize_model_parameters(self):\n",
    "        ## YOUR CODE HERE\n",
    "        # Initialize the model parameters U and V using torch random matrix initializer\n",
    "        # Make sure to require gradient support (requires_grad) parameter\n",
    "        self.U = torch.rand(self.mx_row, self.n_factors, requires_grad=True)\n",
    "        self.V = torch.rand(self.n_factors, self.mx_col, requires_grad=True)\n",
    "        \n",
    "    \n",
    "    def simple_prediction(self, u, v):\n",
    "        ## YOUR CODE HERE\n",
    "        # Compute the prediction for a given user 'u' and item 'v' vector\n",
    "        # Refer back to lecture on how the prediction was calculated\n",
    "        predictions = torch.matmul(u,v)\n",
    "        return predictions\n",
    "\n",
    "    def get_n_factors(self):\n",
    "        return self.n_factors    \n",
    "\n",
    "def test_model():\n",
    "    k = 10\n",
    "    m = 100\n",
    "    n = 200\n",
    "    model_inst = model(k, m, n)\n",
    "    print(\"U Shape: (%d, %d), Expected U shape: (%d, %d)\" % (model_inst.U.shape[0], model_inst.U.shape[1], m, k))\n",
    "    print(\"V Shape: (%d, %d), Expected V shape: (%d, %d)\" % (model_inst.V.shape[0], model_inst.V.shape[1], k, n))\n",
    "\n",
    "    \n",
    "test_model()\n"
   ]
  },
  {
   "cell_type": "markdown",
   "metadata": {},
   "source": [
    "## SGD - Metrics Class\n",
    "\n",
    "This class is a more sophisticated version of the RMSE function we saw earlier. Along with computing the RMSE for test set, this class also contains computation of loss function for the SGD iterations"
   ]
  },
  {
   "cell_type": "code",
   "execution_count": 13,
   "metadata": {},
   "outputs": [
    {
     "name": "stdout",
     "output_type": "stream",
     "text": [
      "Square Loss: 9.000000, Expected Square Loss: 9.000000\n"
     ]
    }
   ],
   "source": [
    "class metrics:\n",
    "    def __init__(self):\n",
    "        pass\n",
    "    \n",
    "    def square_loss(self, y_hat, y):\n",
    "        ## YOUR CODE HERE\n",
    "        # Return the normalized squared loss between y_hat and y\n",
    "        return torch.mean(torch.pow((y_hat - y), 2))\n",
    "    \n",
    "    def RMSE(self, y_hat, y):\n",
    "        return torch.pow(self.square_loss(y_hat,y),0.5)\n",
    "    \n",
    "\n",
    "    def all_loss_RMSE(self, X, Y, n_factors, model_inst):\n",
    "        indU = np.array([int(z) for z in X[:, 0]])\n",
    "        indV = np.array([int(z) for z in X[:, 1]])\n",
    "\n",
    "        # Compute loss and RMSE and return both\n",
    "        pred = torch.matmul(model_inst.U,model_inst.V)\n",
    "        with torch.no_grad():\n",
    "            prediction = pred[indU,indV]\n",
    "        return self.square_loss(prediction, torch.tensor(Y).reshape(-1)),  self.RMSE(prediction, torch.tensor(Y).reshape(-1))\n",
    "\n",
    "    def square_loss_regularized(self, y_hat, y, u, v, regularization_weight):\n",
    "        return torch.mean(torch.pow((y_hat - y), 2))/2 + regularization_weight * (torch.mean(torch.pow(v, 2)) + torch.mean(torch.pow(u, 2)))\n",
    "\n",
    "\n",
    "def test_metrics():\n",
    "    x = torch.tensor([1, 2, 3, 4])\n",
    "    x = x.type(torch.FloatTensor)\n",
    "    y = torch.tensor([4, 5, 6, 7])\n",
    "    y = y.type(torch.FloatTensor)\n",
    "    expected_loss = 9.0\n",
    "    metrics_inst = metrics()\n",
    "    print(\"Square Loss: %f, Expected Square Loss: %f\" % (metrics_inst.square_loss(x, y), expected_loss))\n",
    "test_metrics()"
   ]
  },
  {
   "cell_type": "markdown",
   "metadata": {},
   "source": [
    "## SGD - Optimizer Class\n",
    "\n",
    "This class updates the model parameters based on the computed gradients. This utilizes the autograd to compute the gradients."
   ]
  },
  {
   "cell_type": "code",
   "execution_count": 14,
   "metadata": {},
   "outputs": [],
   "source": [
    "class optimizer:\n",
    "    def __init__(self, lr):\n",
    "        self.lr = lr\n",
    "\n",
    "    def SGD(self, model_inst):\n",
    "        #for data in self.data_batch:\n",
    "        #print(\"Data shape = \", self.data_batch.shape)\n",
    "        indU = list(set(self.data_batch[:,0]))\n",
    "        indV = list(set(self.data_batch[:,1]))\n",
    "\n",
    "        ## YOUR CODE HERE\n",
    "        # Update the corresponding rows of U and V using the gradient update rule\n",
    "        # parameter = parameter - learning_rate * gradient(parameter)\n",
    "        # Use autograd to compute the gradients\n",
    "        with torch.no_grad(): # This is required to prevent gradient attached error\n",
    "            model_inst.U[indU,:] -=  self.lr * model_inst.U.grad[indU,:] # Formula for gradient descent for U - Key thing is to only update the relevant parts of U matrix\n",
    "            model_inst.V[:,indV] -=  self.lr * model_inst.V.grad[:,indV] # Formula for gradient descent for V - Key thing is to only update the relevant parts of V matrix\n",
    "            model_inst.U.grad.zero_()\n",
    "            model_inst.V.grad.zero_()\n",
    "            \n",
    "    def optimization(self, data_batch, model_instance):\n",
    "        self.data_batch = data_batch\n",
    "        self.SGD(model_instance)"
   ]
  },
  {
   "cell_type": "markdown",
   "metadata": {},
   "source": [
    "## SGD - Trainer Class\n",
    "\n",
    "This class performs the training iterations. It iterates through the training data samples and updates the model parameters based on their gradient"
   ]
  },
  {
   "cell_type": "code",
   "execution_count": 15,
   "metadata": {},
   "outputs": [],
   "source": [
    "import numpy as np\n",
    "\n",
    "class Trainer:\n",
    "    def __init__(self, learning_rate = 0.5, epochs = 10, regularization_weight = 0):\n",
    "        self.epochs = epochs\n",
    "        self.learning_rate = learning_rate\n",
    "        self.regularization_weight = regularization_weight\n",
    "        self.training_RMSE = np.zeros((self.epochs, 1))\n",
    "        self.testing_RMSE = np.zeros((self.epochs, 1))\n",
    "    \n",
    "    def print_metrics(self,epoch,train_rmse,test_rmse):\n",
    "        print(\"EPOCH = %d, train_rmse = %f, test_rmse = %f \\n\" % (epoch+1, float(train_rmse), float(test_rmse)))\n",
    "    \n",
    "    def get_metrics(self):\n",
    "        return self.training_RMSE, self.testing_RMSE\n",
    "    \n",
    "    def train(self, model_instance, data_inst):\n",
    "        # Refresh model parameters\n",
    "        model_instance.initialize_model_parameters()\n",
    "        \n",
    "        # Initialize optimizer\n",
    "        optimizer_inst = optimizer(self.learning_rate)\n",
    "        \n",
    "        # Initialize metrics\n",
    "        metrics_inst = metrics()\n",
    "        \n",
    "        print(data_inst.data_loader)\n",
    "        for epoch in range(self.epochs):\n",
    "            running_loss = 0.0\n",
    "            count = 0\n",
    "            # Iterate over the mini batches\n",
    "            # Make sure you understand the shape of data and label before proceeding further\n",
    "            for data in data_inst.data_loader:\n",
    "                #print(data.shape)\n",
    "                #print(data)\n",
    "                ## YOUR CODE HERE\n",
    "                # Get the set of indices for U and V for the current batch of training samples in data\n",
    "                indU = data[:,0]\n",
    "                indV = data[:,1]\n",
    "                Y = data[:,2]\n",
    "                \n",
    "                ## YOUR CODE HERE\n",
    "                # Subset the rows of U and V to only indU and indV. Hint: use slicing operations\n",
    "                u = model_instance.U[indU, :]\n",
    "                v = model_instance.V[:, indV]\n",
    "\n",
    "                \n",
    "                ## YOUR CODE HERE\n",
    "                # Compute the prediction for the user 'u' and item 'v' using model_instance \n",
    "                pred = torch.matmul(u, v)\n",
    "            \n",
    "                ## YOUR CODE HERE\n",
    "                # Compute the squared loss using metrics_inst\n",
    "                # The loss should only depend on the data that is part of the mini batch and \n",
    "                # also only on the subset of the parameters U,V that were computed couple of steps earlier. \n",
    "                if self.regularization_weight != 0:\n",
    "                    loss = metrics_inst.square_loss_regularized(pred, Y, u, v, self.regularization_weight)\n",
    "                else:\n",
    "                    loss = metrics_inst.square_loss(pred, Y)\n",
    "                        \n",
    "                \n",
    "                # Back Propagate gradients\n",
    "                loss.backward() # Once loss is computed, loss.backward() updates the gradient of the parameters and stores it as such\n",
    "                                # So once this is done, as an example, U.grad gives you the updated gradient for U, etc\n",
    "                \n",
    "                ## YOUR CODE HERE\n",
    "                # Optimization - update the model parameters using optimizer_inst\n",
    "                # optimizer_inst.lr = self.learning_rate / (epoch + 1)\n",
    "                optimizer_inst.optimization(data, model_instance)\n",
    "                \n",
    "                count += 1\n",
    "                \n",
    "            # Compute the training and test loss and RMSE after each epoch!\n",
    "            training_loss, train_RMSE = metrics_inst.all_loss_RMSE(data_inst.X_train,\\\n",
    "                    data_inst.Y_train, model_instance.n_factors, model_instance)\n",
    "            test_loss, test_RMSE = metrics_inst.all_loss_RMSE(data_inst.X_test, \\\n",
    "                    data_inst.Y_test, model_instance.n_factors, model_instance)\n",
    "            \n",
    "            # Print metrics\n",
    "            self.print_metrics(epoch, train_RMSE, test_RMSE)\n",
    "            \n",
    "            self.training_RMSE[epoch, 0] = train_RMSE\n",
    "            self.testing_RMSE[epoch, 0] = test_RMSE\n",
    "    "
   ]
  },
  {
   "cell_type": "markdown",
   "metadata": {},
   "source": [
    "## SGD - Config Class\n",
    "\n",
    "This class contains the set of hyper parameters that the SGD algorithm uses. Tuning these parameters is critical to get the best performance out of the algorithm.\n",
    "For this specific data set, we have provided a range of values for each of these hyper parameters to test. To start, pick a value for each hyper parameter in the range."
   ]
  },
  {
   "cell_type": "code",
   "execution_count": 16,
   "metadata": {},
   "outputs": [],
   "source": [
    "class config:\n",
    "    def __init__(self):\n",
    "        self.config()\n",
    "        \n",
    "    def config(self):\n",
    "        ## YOUR CODE HERE\n",
    "        # Initialize the model hyper parameters based on the suggested range\n",
    "        self.batch_size = 64 # (50, 200)\n",
    "        self.learning_rate = 0.1 # (1e-3, 0.1, 1.0)\n",
    "        self.epochs =  10 # (5, 10, 100) # 10 might be a good point to start, increasing this increases the optimization run time linearly\n",
    "        self.n_factors = 5  # (5, 50)\n",
    "        self.regularization_weight = 0.1 # (0.1, 10)\n"
   ]
  },
  {
   "cell_type": "markdown",
   "metadata": {},
   "source": [
    "## SGD Visualizing Errors\n",
    "\n",
    "To visualize the train and test errors as a function of number of iterations of the SGD algorithm, the following code snippet provides the functionality to generate the plot. Collect the train and test errors in each iteration and call this method to generate the plot"
   ]
  },
  {
   "cell_type": "code",
   "execution_count": 17,
   "metadata": {},
   "outputs": [],
   "source": [
    "from matplotlib import pyplot as plt\n",
    "\n",
    "def plot_metrics(train_RMSE, test_RMSE, title='RMSE vs Epochs'):\n",
    "    epochs = range(len(train_RMSE))\n",
    "    plt.plot(epochs, train_RMSE, 'b', label = \"Train RMSE\")\n",
    "    plt.plot(epochs, test_RMSE, 'g', label = \"Test RMSE\")\n",
    "    plt.title(title)\n",
    "    plt.legend()"
   ]
  },
  {
   "cell_type": "markdown",
   "metadata": {},
   "source": [
    "## SGD - Main function\n",
    "\n",
    "This is the main function which binds all the functionality we have created so far."
   ]
  },
  {
   "cell_type": "code",
   "execution_count": 18,
   "metadata": {},
   "outputs": [
    {
     "name": "stdout",
     "output_type": "stream",
     "text": [
      "Read: ./ml-100k/u1.base, Rows: 80000, Cols: 4\n",
      "Read: ./ml-100k/u1.test, Rows: 20000, Cols: 4\n",
      "<torch.utils.data.dataloader.DataLoader object at 0x13933a070>\n",
      "EPOCH = 1, train_rmse = 1.178609, test_rmse = 1.277748 \n",
      "\n",
      "EPOCH = 2, train_rmse = 1.090220, test_rmse = 1.157273 \n",
      "\n",
      "EPOCH = 3, train_rmse = 1.055828, test_rmse = 1.113355 \n",
      "\n",
      "EPOCH = 4, train_rmse = 1.040610, test_rmse = 1.097025 \n",
      "\n",
      "EPOCH = 5, train_rmse = 1.030469, test_rmse = 1.082006 \n",
      "\n",
      "EPOCH = 6, train_rmse = 1.022789, test_rmse = 1.075121 \n",
      "\n",
      "EPOCH = 7, train_rmse = 1.016652, test_rmse = 1.068051 \n",
      "\n",
      "EPOCH = 8, train_rmse = 1.013306, test_rmse = 1.063785 \n",
      "\n",
      "EPOCH = 9, train_rmse = 1.009492, test_rmse = 1.060519 \n",
      "\n",
      "EPOCH = 10, train_rmse = 1.006961, test_rmse = 1.056462 \n",
      "\n",
      "EPOCH = 11, train_rmse = 1.004717, test_rmse = 1.055634 \n",
      "\n",
      "EPOCH = 12, train_rmse = 1.004453, test_rmse = 1.053197 \n",
      "\n",
      "EPOCH = 13, train_rmse = 1.004005, test_rmse = 1.052748 \n",
      "\n",
      "EPOCH = 14, train_rmse = 1.000841, test_rmse = 1.048375 \n",
      "\n",
      "EPOCH = 15, train_rmse = 1.000115, test_rmse = 1.050412 \n",
      "\n",
      "EPOCH = 16, train_rmse = 0.998889, test_rmse = 1.048441 \n",
      "\n",
      "EPOCH = 17, train_rmse = 0.997098, test_rmse = 1.045668 \n",
      "\n",
      "EPOCH = 18, train_rmse = 0.997834, test_rmse = 1.046279 \n",
      "\n",
      "EPOCH = 19, train_rmse = 0.997743, test_rmse = 1.046041 \n",
      "\n",
      "EPOCH = 20, train_rmse = 0.997066, test_rmse = 1.045092 \n",
      "\n",
      "EPOCH = 21, train_rmse = 0.994870, test_rmse = 1.044097 \n",
      "\n",
      "EPOCH = 22, train_rmse = 0.995743, test_rmse = 1.044040 \n",
      "\n",
      "EPOCH = 23, train_rmse = 0.994219, test_rmse = 1.043280 \n",
      "\n",
      "EPOCH = 24, train_rmse = 0.994079, test_rmse = 1.042545 \n",
      "\n",
      "EPOCH = 25, train_rmse = 0.992772, test_rmse = 1.040977 \n",
      "\n",
      "EPOCH = 26, train_rmse = 0.993528, test_rmse = 1.040101 \n",
      "\n",
      "EPOCH = 27, train_rmse = 0.994395, test_rmse = 1.041386 \n",
      "\n",
      "EPOCH = 28, train_rmse = 0.994063, test_rmse = 1.041489 \n",
      "\n",
      "EPOCH = 29, train_rmse = 0.993264, test_rmse = 1.042085 \n",
      "\n",
      "EPOCH = 30, train_rmse = 0.991776, test_rmse = 1.040586 \n",
      "\n",
      "EPOCH = 31, train_rmse = 0.991666, test_rmse = 1.039380 \n",
      "\n",
      "EPOCH = 32, train_rmse = 0.991473, test_rmse = 1.039018 \n",
      "\n",
      "EPOCH = 33, train_rmse = 0.991061, test_rmse = 1.040033 \n",
      "\n",
      "EPOCH = 34, train_rmse = 0.993658, test_rmse = 1.040486 \n",
      "\n",
      "EPOCH = 35, train_rmse = 0.991968, test_rmse = 1.040577 \n",
      "\n",
      "EPOCH = 36, train_rmse = 0.992639, test_rmse = 1.040607 \n",
      "\n",
      "EPOCH = 37, train_rmse = 0.990881, test_rmse = 1.039207 \n",
      "\n",
      "EPOCH = 38, train_rmse = 0.990882, test_rmse = 1.040142 \n",
      "\n",
      "EPOCH = 39, train_rmse = 0.991562, test_rmse = 1.040344 \n",
      "\n",
      "EPOCH = 40, train_rmse = 0.991069, test_rmse = 1.039908 \n",
      "\n",
      "EPOCH = 41, train_rmse = 0.991565, test_rmse = 1.037817 \n",
      "\n",
      "EPOCH = 42, train_rmse = 0.989479, test_rmse = 1.038005 \n",
      "\n",
      "EPOCH = 43, train_rmse = 0.990184, test_rmse = 1.039405 \n",
      "\n",
      "EPOCH = 44, train_rmse = 0.990413, test_rmse = 1.039791 \n",
      "\n",
      "EPOCH = 45, train_rmse = 0.990796, test_rmse = 1.040524 \n",
      "\n",
      "EPOCH = 46, train_rmse = 0.990188, test_rmse = 1.037564 \n",
      "\n",
      "EPOCH = 47, train_rmse = 0.989767, test_rmse = 1.038839 \n",
      "\n",
      "EPOCH = 48, train_rmse = 0.990442, test_rmse = 1.037665 \n",
      "\n",
      "EPOCH = 49, train_rmse = 0.990025, test_rmse = 1.037648 \n",
      "\n",
      "EPOCH = 50, train_rmse = 0.988302, test_rmse = 1.036763 \n",
      "\n",
      "EPOCH = 51, train_rmse = 0.988610, test_rmse = 1.037022 \n",
      "\n",
      "EPOCH = 52, train_rmse = 0.988930, test_rmse = 1.036517 \n",
      "\n",
      "EPOCH = 53, train_rmse = 0.989118, test_rmse = 1.038540 \n",
      "\n",
      "EPOCH = 54, train_rmse = 0.988564, test_rmse = 1.036941 \n",
      "\n",
      "EPOCH = 55, train_rmse = 0.988986, test_rmse = 1.038579 \n",
      "\n",
      "EPOCH = 56, train_rmse = 0.988113, test_rmse = 1.037842 \n",
      "\n",
      "EPOCH = 57, train_rmse = 0.990013, test_rmse = 1.038764 \n",
      "\n",
      "EPOCH = 58, train_rmse = 0.989362, test_rmse = 1.038323 \n",
      "\n",
      "EPOCH = 59, train_rmse = 0.987733, test_rmse = 1.034717 \n",
      "\n",
      "EPOCH = 60, train_rmse = 0.988282, test_rmse = 1.036993 \n",
      "\n",
      "EPOCH = 61, train_rmse = 0.989102, test_rmse = 1.037730 \n",
      "\n",
      "EPOCH = 62, train_rmse = 0.989108, test_rmse = 1.037199 \n",
      "\n",
      "EPOCH = 63, train_rmse = 0.987283, test_rmse = 1.036039 \n",
      "\n",
      "EPOCH = 64, train_rmse = 0.989400, test_rmse = 1.037169 \n",
      "\n",
      "EPOCH = 65, train_rmse = 0.988644, test_rmse = 1.037310 \n",
      "\n",
      "EPOCH = 66, train_rmse = 0.988054, test_rmse = 1.036261 \n",
      "\n",
      "EPOCH = 67, train_rmse = 0.988457, test_rmse = 1.037593 \n",
      "\n",
      "EPOCH = 68, train_rmse = 0.989473, test_rmse = 1.037770 \n",
      "\n",
      "EPOCH = 69, train_rmse = 0.988867, test_rmse = 1.036590 \n",
      "\n",
      "EPOCH = 70, train_rmse = 0.987258, test_rmse = 1.035167 \n",
      "\n",
      "EPOCH = 71, train_rmse = 0.989219, test_rmse = 1.035147 \n",
      "\n",
      "EPOCH = 72, train_rmse = 0.988323, test_rmse = 1.036605 \n",
      "\n",
      "EPOCH = 73, train_rmse = 0.989360, test_rmse = 1.039057 \n",
      "\n",
      "EPOCH = 74, train_rmse = 0.987820, test_rmse = 1.036603 \n",
      "\n",
      "EPOCH = 75, train_rmse = 0.987501, test_rmse = 1.035104 \n",
      "\n",
      "EPOCH = 76, train_rmse = 0.988956, test_rmse = 1.036864 \n",
      "\n",
      "EPOCH = 77, train_rmse = 0.986853, test_rmse = 1.035748 \n",
      "\n",
      "EPOCH = 78, train_rmse = 0.987400, test_rmse = 1.036160 \n",
      "\n",
      "EPOCH = 79, train_rmse = 0.987827, test_rmse = 1.037615 \n",
      "\n",
      "EPOCH = 80, train_rmse = 0.987873, test_rmse = 1.036697 \n",
      "\n",
      "EPOCH = 81, train_rmse = 0.988665, test_rmse = 1.038035 \n",
      "\n",
      "EPOCH = 82, train_rmse = 0.989841, test_rmse = 1.038909 \n",
      "\n",
      "EPOCH = 83, train_rmse = 0.987409, test_rmse = 1.034987 \n",
      "\n",
      "EPOCH = 84, train_rmse = 0.986588, test_rmse = 1.035754 \n",
      "\n",
      "EPOCH = 85, train_rmse = 0.988142, test_rmse = 1.036515 \n",
      "\n",
      "EPOCH = 86, train_rmse = 0.987814, test_rmse = 1.035731 \n",
      "\n",
      "EPOCH = 87, train_rmse = 0.986462, test_rmse = 1.037558 \n",
      "\n",
      "EPOCH = 88, train_rmse = 0.989216, test_rmse = 1.034688 \n",
      "\n",
      "EPOCH = 89, train_rmse = 0.987946, test_rmse = 1.035142 \n",
      "\n",
      "EPOCH = 90, train_rmse = 0.987971, test_rmse = 1.035785 \n",
      "\n",
      "EPOCH = 91, train_rmse = 0.987479, test_rmse = 1.034457 \n",
      "\n",
      "EPOCH = 92, train_rmse = 0.986281, test_rmse = 1.035242 \n",
      "\n",
      "EPOCH = 93, train_rmse = 0.987032, test_rmse = 1.036883 \n",
      "\n",
      "EPOCH = 94, train_rmse = 0.988308, test_rmse = 1.035208 \n",
      "\n",
      "EPOCH = 95, train_rmse = 0.988560, test_rmse = 1.036712 \n",
      "\n",
      "EPOCH = 96, train_rmse = 0.988198, test_rmse = 1.036040 \n",
      "\n",
      "EPOCH = 97, train_rmse = 0.986151, test_rmse = 1.036443 \n",
      "\n",
      "EPOCH = 98, train_rmse = 0.986965, test_rmse = 1.036753 \n",
      "\n",
      "EPOCH = 99, train_rmse = 0.987735, test_rmse = 1.035791 \n",
      "\n",
      "EPOCH = 100, train_rmse = 0.987733, test_rmse = 1.036069 \n",
      "\n",
      "lr = 0.5,  n_factor = 50\n"
     ]
    },
    {
     "data": {
      "image/png": "[encoded data removed]",
      "text/plain": [
       "<Figure size 432x288 with 1 Axes>"
      ]
     },
     "metadata": {
      "needs_background": "light"
     },
     "output_type": "display_data"
    }
   ],
   "source": [
    "## SGD Main Function\n",
    "# Load configuration of hyper parameters\n",
    "\n",
    "from torch.utils.data import TensorDataset, DataLoader\n",
    "\n",
    "config_inst = config()\n",
    "\n",
    "config_inst.batch_size = 64\n",
    "config_inst.learning_rate = 0.5\n",
    "config_inst.epochs = 100\n",
    "config_inst.n_factors = 50\n",
    "\n",
    "# Load train and test data\n",
    "data_inst = data_class()\n",
    "\n",
    "# Data Loader for training data\n",
    "# This is helpful to create mini-batches for optimization\n",
    "XY_train = torch.tensor(np.hstack((data_inst.X_train,data_inst.Y_train)))\n",
    "data_loader = DataLoader(XY_train,batch_size=config_inst.batch_size,shuffle=True) \n",
    "# shuffle=True ensures there is random shuffling of batches when sampling from DataLoader - mimicking random mini-batches\n",
    "\n",
    "data_inst.add_data_loader(data_loader)\n",
    "\n",
    "## YOUR CODE HERE\n",
    "# Create a model instance based on the corresponding config_inst values\n",
    "rows = data_inst.mx_row # Plug in the appropriate number of rows\n",
    "cols = data_inst.mx_col# Plug in the appropriate number of cols\n",
    "\n",
    "model_inst = model(config_inst.n_factors,rows,cols)\n",
    "\n",
    "## YOUR CODE HERE\n",
    "# Create a Trainer Instance based on the corresponding config_inst values\n",
    "trainer_inst = Trainer(config_inst.learning_rate, config_inst.epochs)\n",
    "\n",
    "## YOUR CODE HERE\n",
    "# Train the model using the trainer instance, model_inst and data_inst\n",
    "trainer_inst.train(model_inst,data_inst)\n",
    "\n",
    "## YOUR CODE HERE\n",
    "# Get the training and test metrics using trainer_inst\n",
    "training_RMSE, testing_RMSE = trainer_inst.get_metrics()\n",
    "\n",
    "# Plot the Errors\n",
    "print(f'lr = {config_inst.learning_rate},  n_factor = {config_inst.n_factors}')\n",
    "\n",
    "plot_metrics(training_RMSE, testing_RMSE) # If you go the SGD mini-batch going right, this plot will curve downwards for both train and test\n"
   ]
  },
  {
   "cell_type": "markdown",
   "metadata": {},
   "source": [
    "Even though SGD is performing slightly better than user/item average imputed SVD, we expect the SGD to perform much better. Looking at the train and test error plot, can you guess what might be the issue with the current optimization? And what can we do to fix it?\n",
    "\n",
    "Hint: Overfitting"
   ]
  },
  {
   "cell_type": "markdown",
   "metadata": {},
   "source": [
    "**Answer:**\n",
    "\n",
    "From the plot we can see after a few step the training RMSE is still decreasing but the testing RMSE is already remain flat. The reason might be the model is overfitting. For this sparse data set. The weight is too detailed on the single data point in train data set. "
   ]
  },
  {
   "cell_type": "markdown",
   "metadata": {},
   "source": [
    "# Problem 6: SGD with Regularization\n",
    "\n",
    "From the error plot in Problem 5 we can see that the test RMSE decreases with train RMSE for first few iterations, but after that the test RMSE starts to increase or remains flat, even though the train RMSE is increasing. This is a good indicator for overfitting. Like we say in the lecture, adding regularization is one of the ways to fix this. \n",
    "\n",
    "Implement the l2 regularization to the SGD code above and compare the performence with and without the regularization. Do you see the expected benefit?\n",
    "\n",
    "Hint: Following are the specific changes you need to do in the code to add the regularization\n",
    "\n",
    "1. Update the config class to include a regularization weight hyper parameter (regularization_weight). A value in (0.1, 10) is a good range to try for this hyper parameter.\n",
    "1. Add a function in metrics class to compure the square loss with regularization. Signature of that function is given by square_loss_regularized(self, y_hat, y, u, v, regularization_weight)\n",
    "1. Update the trainer class constructor to take in the regularization_weight as a parameter\n",
    "1. Update the Trainer.train() method to compute the new loss with regualrization. Remember, autograd will take care of computing the updated gradient, as long as the loss function computation is correct.\n",
    "1. Finally update the main() to pass in the regularization_weight parameter to the trainer class."
   ]
  },
  {
   "cell_type": "code",
   "execution_count": 19,
   "metadata": {},
   "outputs": [
    {
     "name": "stdout",
     "output_type": "stream",
     "text": [
      "<torch.utils.data.dataloader.DataLoader object at 0x13933a070>\n",
      "EPOCH = 1, train_rmse = 1.342506, test_rmse = 1.480840 \n",
      "\n",
      "EPOCH = 2, train_rmse = 1.184669, test_rmse = 1.285325 \n",
      "\n",
      "EPOCH = 3, train_rmse = 1.123457, test_rmse = 1.200940 \n",
      "\n",
      "EPOCH = 4, train_rmse = 1.090454, test_rmse = 1.155796 \n",
      "\n",
      "EPOCH = 5, train_rmse = 1.071201, test_rmse = 1.131352 \n",
      "\n",
      "EPOCH = 6, train_rmse = 1.057423, test_rmse = 1.113279 \n",
      "\n",
      "EPOCH = 7, train_rmse = 1.047304, test_rmse = 1.099939 \n",
      "\n",
      "EPOCH = 8, train_rmse = 1.039136, test_rmse = 1.090688 \n",
      "\n",
      "EPOCH = 9, train_rmse = 1.034522, test_rmse = 1.086133 \n",
      "\n",
      "EPOCH = 10, train_rmse = 1.028590, test_rmse = 1.078560 \n",
      "\n",
      "EPOCH = 11, train_rmse = 1.025392, test_rmse = 1.075282 \n",
      "\n",
      "EPOCH = 12, train_rmse = 1.021539, test_rmse = 1.071398 \n",
      "\n",
      "EPOCH = 13, train_rmse = 1.019054, test_rmse = 1.068283 \n",
      "\n",
      "EPOCH = 14, train_rmse = 1.016286, test_rmse = 1.066654 \n",
      "\n",
      "EPOCH = 15, train_rmse = 1.014045, test_rmse = 1.063867 \n",
      "\n",
      "EPOCH = 16, train_rmse = 1.012791, test_rmse = 1.062122 \n",
      "\n",
      "EPOCH = 17, train_rmse = 1.011066, test_rmse = 1.059830 \n",
      "\n",
      "EPOCH = 18, train_rmse = 1.009575, test_rmse = 1.058393 \n",
      "\n",
      "EPOCH = 19, train_rmse = 1.008287, test_rmse = 1.056994 \n",
      "\n",
      "EPOCH = 20, train_rmse = 1.006696, test_rmse = 1.055403 \n",
      "\n",
      "EPOCH = 21, train_rmse = 1.005538, test_rmse = 1.053086 \n",
      "\n",
      "EPOCH = 22, train_rmse = 1.004243, test_rmse = 1.052284 \n",
      "\n",
      "EPOCH = 23, train_rmse = 1.003818, test_rmse = 1.052399 \n",
      "\n",
      "EPOCH = 24, train_rmse = 1.002758, test_rmse = 1.049757 \n",
      "\n",
      "EPOCH = 25, train_rmse = 1.002647, test_rmse = 1.050185 \n",
      "\n",
      "EPOCH = 26, train_rmse = 1.001811, test_rmse = 1.050044 \n",
      "\n",
      "EPOCH = 27, train_rmse = 1.000628, test_rmse = 1.049434 \n",
      "\n",
      "EPOCH = 28, train_rmse = 1.000131, test_rmse = 1.048885 \n",
      "\n",
      "EPOCH = 29, train_rmse = 0.999856, test_rmse = 1.048659 \n",
      "\n",
      "EPOCH = 30, train_rmse = 0.998517, test_rmse = 1.046467 \n",
      "\n",
      "EPOCH = 31, train_rmse = 0.999223, test_rmse = 1.046865 \n",
      "\n",
      "EPOCH = 32, train_rmse = 0.998318, test_rmse = 1.045484 \n",
      "\n",
      "EPOCH = 33, train_rmse = 0.998744, test_rmse = 1.047122 \n",
      "\n",
      "EPOCH = 34, train_rmse = 0.997548, test_rmse = 1.045643 \n",
      "\n",
      "EPOCH = 35, train_rmse = 0.996498, test_rmse = 1.045016 \n",
      "\n",
      "EPOCH = 36, train_rmse = 0.996167, test_rmse = 1.043184 \n",
      "\n",
      "EPOCH = 37, train_rmse = 0.995768, test_rmse = 1.042874 \n",
      "\n",
      "EPOCH = 38, train_rmse = 0.996188, test_rmse = 1.044324 \n",
      "\n",
      "EPOCH = 39, train_rmse = 0.995674, test_rmse = 1.044661 \n",
      "\n",
      "EPOCH = 40, train_rmse = 0.995901, test_rmse = 1.043366 \n",
      "\n",
      "EPOCH = 41, train_rmse = 0.995495, test_rmse = 1.043830 \n",
      "\n",
      "EPOCH = 42, train_rmse = 0.995263, test_rmse = 1.043292 \n",
      "\n",
      "EPOCH = 43, train_rmse = 0.994865, test_rmse = 1.041924 \n",
      "\n",
      "EPOCH = 44, train_rmse = 0.995150, test_rmse = 1.041535 \n",
      "\n",
      "EPOCH = 45, train_rmse = 0.994634, test_rmse = 1.043377 \n",
      "\n",
      "EPOCH = 46, train_rmse = 0.994449, test_rmse = 1.041317 \n",
      "\n",
      "EPOCH = 47, train_rmse = 0.993598, test_rmse = 1.042010 \n",
      "\n",
      "EPOCH = 48, train_rmse = 0.993329, test_rmse = 1.041999 \n",
      "\n",
      "EPOCH = 49, train_rmse = 0.993542, test_rmse = 1.041028 \n",
      "\n",
      "EPOCH = 50, train_rmse = 0.992477, test_rmse = 1.041690 \n",
      "\n",
      "EPOCH = 51, train_rmse = 0.992752, test_rmse = 1.042006 \n",
      "\n",
      "EPOCH = 52, train_rmse = 0.993557, test_rmse = 1.042498 \n",
      "\n",
      "EPOCH = 53, train_rmse = 0.992870, test_rmse = 1.040666 \n",
      "\n",
      "EPOCH = 54, train_rmse = 0.992627, test_rmse = 1.041059 \n",
      "\n",
      "EPOCH = 55, train_rmse = 0.991644, test_rmse = 1.039514 \n",
      "\n",
      "EPOCH = 56, train_rmse = 0.992253, test_rmse = 1.040485 \n",
      "\n",
      "EPOCH = 57, train_rmse = 0.992576, test_rmse = 1.039726 \n",
      "\n",
      "EPOCH = 58, train_rmse = 0.993000, test_rmse = 1.041000 \n",
      "\n",
      "EPOCH = 59, train_rmse = 0.992217, test_rmse = 1.039782 \n",
      "\n",
      "EPOCH = 60, train_rmse = 0.992195, test_rmse = 1.040175 \n",
      "\n",
      "EPOCH = 61, train_rmse = 0.992105, test_rmse = 1.040834 \n",
      "\n",
      "EPOCH = 62, train_rmse = 0.991200, test_rmse = 1.040170 \n",
      "\n",
      "EPOCH = 63, train_rmse = 0.992099, test_rmse = 1.041034 \n",
      "\n",
      "EPOCH = 64, train_rmse = 0.991333, test_rmse = 1.039438 \n",
      "\n",
      "EPOCH = 65, train_rmse = 0.991853, test_rmse = 1.041123 \n",
      "\n",
      "EPOCH = 66, train_rmse = 0.991285, test_rmse = 1.039489 \n",
      "\n",
      "EPOCH = 67, train_rmse = 0.990700, test_rmse = 1.038650 \n",
      "\n",
      "EPOCH = 68, train_rmse = 0.991087, test_rmse = 1.038996 \n",
      "\n",
      "EPOCH = 69, train_rmse = 0.990724, test_rmse = 1.038962 \n",
      "\n",
      "EPOCH = 70, train_rmse = 0.991639, test_rmse = 1.040111 \n",
      "\n",
      "EPOCH = 71, train_rmse = 0.990369, test_rmse = 1.039407 \n",
      "\n",
      "EPOCH = 72, train_rmse = 0.990441, test_rmse = 1.039598 \n",
      "\n",
      "EPOCH = 73, train_rmse = 0.990790, test_rmse = 1.039882 \n",
      "\n",
      "EPOCH = 74, train_rmse = 0.990538, test_rmse = 1.038649 \n",
      "\n",
      "EPOCH = 75, train_rmse = 0.990125, test_rmse = 1.038323 \n",
      "\n",
      "EPOCH = 76, train_rmse = 0.990387, test_rmse = 1.038927 \n",
      "\n",
      "EPOCH = 77, train_rmse = 0.989710, test_rmse = 1.038024 \n",
      "\n",
      "EPOCH = 78, train_rmse = 0.990439, test_rmse = 1.038751 \n",
      "\n",
      "EPOCH = 79, train_rmse = 0.990800, test_rmse = 1.039189 \n",
      "\n",
      "EPOCH = 80, train_rmse = 0.990372, test_rmse = 1.039138 \n",
      "\n",
      "EPOCH = 81, train_rmse = 0.990516, test_rmse = 1.039625 \n",
      "\n",
      "EPOCH = 82, train_rmse = 0.990035, test_rmse = 1.038885 \n",
      "\n",
      "EPOCH = 83, train_rmse = 0.990979, test_rmse = 1.039190 \n",
      "\n",
      "EPOCH = 84, train_rmse = 0.990371, test_rmse = 1.039790 \n",
      "\n",
      "EPOCH = 85, train_rmse = 0.989330, test_rmse = 1.039020 \n",
      "\n",
      "EPOCH = 86, train_rmse = 0.989617, test_rmse = 1.039179 \n",
      "\n",
      "EPOCH = 87, train_rmse = 0.990509, test_rmse = 1.039673 \n",
      "\n",
      "EPOCH = 88, train_rmse = 0.990009, test_rmse = 1.039578 \n",
      "\n",
      "EPOCH = 89, train_rmse = 0.990351, test_rmse = 1.038914 \n",
      "\n",
      "EPOCH = 90, train_rmse = 0.990598, test_rmse = 1.038656 \n",
      "\n",
      "EPOCH = 91, train_rmse = 0.990156, test_rmse = 1.039595 \n",
      "\n",
      "EPOCH = 92, train_rmse = 0.990220, test_rmse = 1.038975 \n",
      "\n",
      "EPOCH = 93, train_rmse = 0.990055, test_rmse = 1.038962 \n",
      "\n",
      "EPOCH = 94, train_rmse = 0.990371, test_rmse = 1.039494 \n",
      "\n",
      "EPOCH = 95, train_rmse = 0.989845, test_rmse = 1.037917 \n",
      "\n",
      "EPOCH = 96, train_rmse = 0.989408, test_rmse = 1.038794 \n",
      "\n",
      "EPOCH = 97, train_rmse = 0.989813, test_rmse = 1.039010 \n",
      "\n",
      "EPOCH = 98, train_rmse = 0.989548, test_rmse = 1.038013 \n",
      "\n",
      "EPOCH = 99, train_rmse = 0.988691, test_rmse = 1.038358 \n",
      "\n",
      "EPOCH = 100, train_rmse = 0.989070, test_rmse = 1.037551 \n",
      "\n",
      "lr = 0.5,  n_factor = 50,  weight = 0.1\n"
     ]
    },
    {
     "data": {
      "image/png": "[encoded data removed]",
      "text/plain": [
       "<Figure size 432x288 with 1 Axes>"
      ]
     },
     "metadata": {
      "needs_background": "light"
     },
     "output_type": "display_data"
    }
   ],
   "source": [
    "config_inst.regularization_weight = 0.1\n",
    "\n",
    "trainer_inst_r = Trainer(config_inst.learning_rate, config_inst.epochs, config_inst.regularization_weight)\n",
    "\n",
    "model_inst2 = model(config_inst.n_factors,rows,cols)\n",
    "\n",
    "trainer_inst_r.train(model_inst2, data_inst)\n",
    "\n",
    "training_RMSE2, testing_RMSE2 = trainer_inst_r.get_metrics()\n",
    "\n",
    "print(f'lr = {config_inst.learning_rate},  n_factor = {config_inst.n_factors},  weight = {config_inst.regularization_weight}')\n",
    "plot_metrics(training_RMSE2, testing_RMSE2, title='RMSE vs Epochs with l2 Regularization')"
   ]
  },
  {
   "cell_type": "code",
   "execution_count": 21,
   "metadata": {},
   "outputs": [
    {
     "data": {
      "text/plain": [
       "<matplotlib.legend.Legend at 0x152321a30>"
      ]
     },
     "execution_count": 21,
     "metadata": {},
     "output_type": "execute_result"
    },
    {
     "data": {
      "image/png": "[encoded data removed]",
      "text/plain": [
       "<Figure size 432x288 with 1 Axes>"
      ]
     },
     "metadata": {
      "needs_background": "light"
     },
     "output_type": "display_data"
    }
   ],
   "source": [
    "epochs = range(len(testing_RMSE2))\n",
    "plt.plot(epochs, testing_RMSE, 'b', label = \"RMSE\")\n",
    "plt.plot(epochs, testing_RMSE2, 'g', label = \"RMSE with Regularization\")\n",
    "plt.title('Regularization Comparing')\n",
    "plt.legend()"
   ]
  },
  {
   "cell_type": "markdown",
   "metadata": {},
   "source": [
    "After apply the regularization, the test RMSE decrease more smoothly and there is still a downward trend after a few epochs."
   ]
  }
 ],
 "metadata": {
  "kernelspec": {
   "display_name": "Python 3.9.12 ('main')",
   "language": "python",
   "name": "python3"
  },
  "language_info": {
   "codemirror_mode": {
    "name": "ipython",
    "version": 3
   },
   "file_extension": ".py",
   "mimetype": "text/x-python",
   "name": "python",
   "nbconvert_exporter": "python",
   "pygments_lexer": "ipython3",
   "version": "3.9.12"
  },
  "vscode": {
   "interpreter": {
    "hash": "daf302ee44f1a774dac5ffd3a70ddee2099eff9a71d31c63aef06c6b735ae96f"
   }
  }
 },
 "nbformat": 4,
 "nbformat_minor": 4
}
